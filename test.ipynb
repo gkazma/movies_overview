{
 "cells": [
  {
   "cell_type": "code",
   "execution_count": null,
   "metadata": {},
   "outputs": [],
   "source": [
    "class Model:\n",
    "    self.vectorizer\n",
    "    self.model\n",
    "    self.preprocessing\n",
    "    self.postprocessing\n",
    "\n",
    "    def train(data):\n",
    "        # train le model\n",
    "        self.history =  self.model.fit(data)\n",
    "\n",
    "        "
   ]
  }
 ],
 "metadata": {
  "language_info": {
   "name": "python"
  },
  "orig_nbformat": 4
 },
 "nbformat": 4,
 "nbformat_minor": 2
}
