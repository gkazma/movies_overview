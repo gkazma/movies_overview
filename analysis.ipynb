{
 "cells": [
  {
   "cell_type": "code",
   "execution_count": 2,
   "id": "3f0d1a59-1d3b-41bd-87e4-5d0088280415",
   "metadata": {},
   "outputs": [],
   "source": [
    "import ast\n",
    "import pandas as pd\n",
    "import numpy as np\n",
    "from sklearn.preprocessing import MultiLabelBinarizer\n",
    "from sklearn.model_selection import train_test_split"
   ]
  },
  {
   "cell_type": "code",
   "execution_count": 3,
   "id": "27dda187-f820-45b9-a028-0993c23b59ac",
   "metadata": {},
   "outputs": [
    {
     "data": {
      "text/html": [
       "<div>\n",
       "<style scoped>\n",
       "    .dataframe tbody tr th:only-of-type {\n",
       "        vertical-align: middle;\n",
       "    }\n",
       "\n",
       "    .dataframe tbody tr th {\n",
       "        vertical-align: top;\n",
       "    }\n",
       "\n",
       "    .dataframe thead th {\n",
       "        text-align: right;\n",
       "    }\n",
       "</style>\n",
       "<table border=\"1\" class=\"dataframe\">\n",
       "  <thead>\n",
       "    <tr style=\"text-align: right;\">\n",
       "      <th></th>\n",
       "      <th>genres</th>\n",
       "      <th>overview</th>\n",
       "    </tr>\n",
       "  </thead>\n",
       "  <tbody>\n",
       "    <tr>\n",
       "      <th>0</th>\n",
       "      <td>[Animation, Comedy, Family]</td>\n",
       "      <td>Led by Woody, Andy's toys live happily in his ...</td>\n",
       "    </tr>\n",
       "    <tr>\n",
       "      <th>1</th>\n",
       "      <td>[Adventure, Fantasy, Family]</td>\n",
       "      <td>When siblings Judy and Peter discover an encha...</td>\n",
       "    </tr>\n",
       "    <tr>\n",
       "      <th>2</th>\n",
       "      <td>[Romance, Comedy]</td>\n",
       "      <td>A family wedding reignites the ancient feud be...</td>\n",
       "    </tr>\n",
       "    <tr>\n",
       "      <th>3</th>\n",
       "      <td>[Comedy, Drama, Romance]</td>\n",
       "      <td>Cheated on, mistreated and stepped on, the wom...</td>\n",
       "    </tr>\n",
       "    <tr>\n",
       "      <th>4</th>\n",
       "      <td>[Comedy]</td>\n",
       "      <td>Just when George Banks has recovered from his ...</td>\n",
       "    </tr>\n",
       "  </tbody>\n",
       "</table>\n",
       "</div>"
      ],
      "text/plain": [
       "                         genres   \n",
       "0   [Animation, Comedy, Family]  \\\n",
       "1  [Adventure, Fantasy, Family]   \n",
       "2             [Romance, Comedy]   \n",
       "3      [Comedy, Drama, Romance]   \n",
       "4                      [Comedy]   \n",
       "\n",
       "                                            overview  \n",
       "0  Led by Woody, Andy's toys live happily in his ...  \n",
       "1  When siblings Judy and Peter discover an encha...  \n",
       "2  A family wedding reignites the ancient feud be...  \n",
       "3  Cheated on, mistreated and stepped on, the wom...  \n",
       "4  Just when George Banks has recovered from his ...  "
      ]
     },
     "execution_count": 3,
     "metadata": {},
     "output_type": "execute_result"
    }
   ],
   "source": [
    "# There are multiple genres per movie\n",
    "df = pd.read_csv(\"dataset/movies_metadata.csv\",usecols=['genres', 'overview'])\n",
    "# Convert genres string type to list\n",
    "df['genres'] = df['genres'].apply(lambda x: ast.literal_eval(x)).apply(lambda x: [d['name'] for d in x])\n",
    "df.head()"
   ]
  },
  {
   "cell_type": "code",
   "execution_count": 4,
   "id": "eae6b0ce-8ffd-47bc-a813-14bce32d5a49",
   "metadata": {},
   "outputs": [
    {
     "data": {
      "text/plain": [
       "954"
      ]
     },
     "execution_count": 4,
     "metadata": {},
     "output_type": "execute_result"
    }
   ],
   "source": [
    "# Some movies have no overview, remove them\n",
    "df['overview'].isnull().sum()"
   ]
  },
  {
   "cell_type": "code",
   "execution_count": 5,
   "id": "120a10e0-780d-47e8-9eba-b99d5c1150d0",
   "metadata": {},
   "outputs": [
    {
     "data": {
      "text/plain": [
       "count    45466.000000\n",
       "mean         2.003827\n",
       "std          1.131100\n",
       "min          0.000000\n",
       "25%          1.000000\n",
       "50%          2.000000\n",
       "75%          3.000000\n",
       "max          8.000000\n",
       "Name: genres, dtype: float64"
      ]
     },
     "execution_count": 5,
     "metadata": {},
     "output_type": "execute_result"
    }
   ],
   "source": [
    "# Some movies have no labels, remove them\n",
    "df['genres'].apply(lambda x: len(x)).describe()"
   ]
  },
  {
   "cell_type": "code",
   "execution_count": 6,
   "id": "31e510f7-feac-40c6-81b9-809198ea61aa",
   "metadata": {},
   "outputs": [
    {
     "data": {
      "text/plain": [
       "Drama                                    20265\n",
       "Comedy                                   13182\n",
       "Thriller                                  7624\n",
       "Romance                                   6735\n",
       "Action                                    6596\n",
       "Horror                                    4673\n",
       "Crime                                     4307\n",
       "Documentary                               3932\n",
       "Adventure                                 3496\n",
       "Science Fiction                           3049\n",
       "Family                                    2770\n",
       "Mystery                                   2467\n",
       "Fantasy                                   2313\n",
       "Animation                                 1935\n",
       "Foreign                                   1622\n",
       "Music                                     1598\n",
       "History                                   1398\n",
       "War                                       1323\n",
       "Western                                   1042\n",
       "TV Movie                                   767\n",
       "Odyssey Media                                1\n",
       "Pulser Productions                           1\n",
       "Rogue State                                  1\n",
       "GoHands                                      1\n",
       "Carousel Productions                         1\n",
       "Sentai Filmworks                             1\n",
       "Telescene Film Group Productions             1\n",
       "The Cartel                                   1\n",
       "BROSTA TV                                    1\n",
       "Vision View Entertainment                    1\n",
       "Aniplex                                      1\n",
       "Mardock Scramble Production Committee        1\n",
       "dtype: int64"
      ]
     },
     "execution_count": 6,
     "metadata": {},
     "output_type": "execute_result"
    }
   ],
   "source": [
    "# Analyze labels\n",
    "mlb = MultiLabelBinarizer()\n",
    "labels = mlb.fit_transform(df['genres'])\n",
    "classes = mlb.classes_\n",
    "label_df = pd.DataFrame(labels, columns=classes)\n",
    "\n",
    "# Some labels appear only once and are clearly not movie genres, remove them\n",
    "labels_count = label_df.sum().sort_values(ascending=False)\n",
    "labels_count"
   ]
  },
  {
   "cell_type": "code",
   "execution_count": 7,
   "id": "74c395e6-c3e1-46f6-9285-737c0025fd6e",
   "metadata": {},
   "outputs": [
    {
     "data": {
      "text/plain": [
       "['Drama',\n",
       " 'Comedy',\n",
       " 'Thriller',\n",
       " 'Romance',\n",
       " 'Action',\n",
       " 'Horror',\n",
       " 'Crime',\n",
       " 'Documentary',\n",
       " 'Adventure',\n",
       " 'Science Fiction',\n",
       " 'Family',\n",
       " 'Mystery',\n",
       " 'Fantasy',\n",
       " 'Animation',\n",
       " 'Foreign',\n",
       " 'Music',\n",
       " 'History',\n",
       " 'War',\n",
       " 'Western',\n",
       " 'TV Movie']"
      ]
     },
     "execution_count": 7,
     "metadata": {},
     "output_type": "execute_result"
    }
   ],
   "source": [
    "filtered_labels = labels_count[labels_count != 1].index.to_list()\n",
    "filtered_labels"
   ]
  },
  {
   "cell_type": "code",
   "execution_count": 8,
   "id": "1a6373ef-c0c1-49be-bfe9-19f7bdc53204",
   "metadata": {},
   "outputs": [
    {
     "name": "stderr",
     "output_type": "stream",
     "text": [
      "/Users/ghaithkazma/.pyenv/versions/3.11.3/envs/movies/lib/python3.11/site-packages/sklearn/preprocessing/_label.py:895: UserWarning: unknown class(es) ['Aniplex', 'BROSTA TV', 'Carousel Productions', 'GoHands', 'Mardock Scramble Production Committee', 'Odyssey Media', 'Pulser Productions', 'Rogue State', 'Sentai Filmworks', 'Telescene Film Group Productions', 'The Cartel', 'Vision View Entertainment'] will be ignored\n",
      "  warnings.warn(\n"
     ]
    }
   ],
   "source": [
    "mlb = MultiLabelBinarizer(classes=filtered_labels)\n",
    "labels = mlb.fit_transform(df['genres'])\n",
    "classes = mlb.classes_"
   ]
  },
  {
   "cell_type": "code",
   "execution_count": 9,
   "id": "00423ed2-5083-41c4-9e17-788dc3746b9e",
   "metadata": {},
   "outputs": [],
   "source": [
    "# drop entries with no labels, entries with labels that we chose to discard and entries with no overview\n",
    "binarized_df = pd.DataFrame(labels, columns=classes)\n",
    "binarized_df['overview'] = df['overview']\n",
    "binarized_df = binarized_df[binarized_df.loc[:, binarized_df.columns != 'overview'].sum(axis=1) != 0].dropna(subset = ['overview']).reset_index(drop=True)\n",
    "binarized_df = binarized_df.dropna(subset = ['overview']).reset_index(drop=True)\n",
    "\n",
    "X, y = binarized_df['overview'], binarized_df.loc[:, binarized_df.columns != 'overview']\n",
    "X_train, X_valid, y_train, y_valid = train_test_split(X, y, test_size=0.3, random_state=3)"
   ]
  },
  {
   "cell_type": "code",
   "execution_count": 10,
   "id": "fd15ebc2-0fae-4c14-9de4-d5636457e694",
   "metadata": {},
   "outputs": [],
   "source": [
    "from sklearn.feature_extraction.text import TfidfVectorizer\n",
    "\n",
    "vectorizer = TfidfVectorizer(max_features = 1000, stop_words = 'english', lowercase = True)\n",
    "X_train_vec = vectorizer.fit_transform(X_train)\n",
    "X_valid_vec = vectorizer.transform(X_valid)"
   ]
  },
  {
   "cell_type": "code",
   "execution_count": 11,
   "id": "24fdadc1-2932-4d99-99b7-4b6371655ac6",
   "metadata": {},
   "outputs": [
    {
     "name": "stdout",
     "output_type": "stream",
     "text": [
      "Classification Report\n",
      "Training\n",
      "                 precision    recall  f1-score   support\n",
      "\n",
      "          Drama       1.00      0.99      1.00     14014\n",
      "         Comedy       0.99      1.00      1.00      8955\n",
      "       Thriller       1.00      1.00      1.00      5338\n",
      "        Romance       1.00      1.00      1.00      4640\n",
      "         Action       1.00      1.00      1.00      4687\n",
      "         Horror       1.00      1.00      1.00      3242\n",
      "          Crime       1.00      1.00      1.00      3031\n",
      "    Documentary       1.00      1.00      1.00      2732\n",
      "      Adventure       1.00      1.00      1.00      2472\n",
      "Science Fiction       1.00      1.00      1.00      2105\n",
      "         Family       1.00      0.99      1.00      1893\n",
      "        Mystery       1.00      1.00      1.00      1719\n",
      "        Fantasy       1.00      0.99      1.00      1577\n",
      "      Animation       1.00      0.99      0.99      1300\n",
      "        Foreign       1.00      0.99      0.99      1125\n",
      "          Music       1.00      0.99      1.00      1075\n",
      "        History       1.00      0.99      1.00       970\n",
      "            War       1.00      1.00      1.00       933\n",
      "        Western       1.00      1.00      1.00       730\n",
      "       TV Movie       1.00      0.99      1.00       530\n",
      "\n",
      "      micro avg       1.00      1.00      1.00     63068\n",
      "      macro avg       1.00      1.00      1.00     63068\n",
      "   weighted avg       1.00      1.00      1.00     63068\n",
      "    samples avg       1.00      1.00      1.00     63068\n",
      "\n",
      "Accuracy  0.9940255181259704\n",
      "\n",
      "Validation\n",
      "                 precision    recall  f1-score   support\n",
      "\n",
      "          Drama       0.56      0.59      0.57      6009\n",
      "         Comedy       0.44      0.42      0.43      3851\n",
      "       Thriller       0.33      0.27      0.30      2248\n",
      "        Romance       0.34      0.28      0.31      2033\n",
      "         Action       0.31      0.27      0.29      1878\n",
      "         Horror       0.34      0.31      0.33      1418\n",
      "          Crime       0.29      0.24      0.26      1238\n",
      "    Documentary       0.49      0.50      0.49      1154\n",
      "      Adventure       0.18      0.15      0.16       998\n",
      "Science Fiction       0.33      0.26      0.29       923\n",
      "         Family       0.17      0.12      0.14       839\n",
      "        Mystery       0.17      0.13      0.14       732\n",
      "        Fantasy       0.17      0.12      0.14       713\n",
      "      Animation       0.22      0.15      0.17       620\n",
      "        Foreign       0.05      0.04      0.04       474\n",
      "          Music       0.28      0.18      0.22       513\n",
      "        History       0.11      0.09      0.10       409\n",
      "            War       0.27      0.25      0.26       377\n",
      "        Western       0.19      0.13      0.16       305\n",
      "       TV Movie       0.02      0.01      0.02       221\n",
      "\n",
      "      micro avg       0.38      0.34      0.36     26953\n",
      "      macro avg       0.26      0.22      0.24     26953\n",
      "   weighted avg       0.37      0.34      0.35     26953\n",
      "    samples avg       0.43      0.38      0.37     26953\n",
      "\n",
      "Accuracy  0.10663096550637896\n"
     ]
    },
    {
     "name": "stderr",
     "output_type": "stream",
     "text": [
      "/Users/ghaithkazma/.pyenv/versions/3.11.3/envs/movies/lib/python3.11/site-packages/sklearn/metrics/_classification.py:1344: UndefinedMetricWarning: Precision and F-score are ill-defined and being set to 0.0 in samples with no predicted labels. Use `zero_division` parameter to control this behavior.\n",
      "  _warn_prf(average, modifier, msg_start, len(result))\n",
      "/Users/ghaithkazma/.pyenv/versions/3.11.3/envs/movies/lib/python3.11/site-packages/sklearn/metrics/_classification.py:1344: UndefinedMetricWarning: Precision and F-score are ill-defined and being set to 0.0 in samples with no predicted labels. Use `zero_division` parameter to control this behavior.\n",
      "  _warn_prf(average, modifier, msg_start, len(result))\n"
     ]
    }
   ],
   "source": [
    "from sklearn.tree import DecisionTreeClassifier\n",
    "model = DecisionTreeClassifier()\n",
    "model.fit(X_train_vec, y_train)\n",
    "\n",
    "pred_train, pred_val = model.predict(X_train_vec), model.predict(X_valid_vec)\n",
    "\n",
    "from sklearn.metrics import classification_report, accuracy_score\n",
    "print(\"Classification Report\")\n",
    "print(\"Training\")\n",
    "print(classification_report(y_true = y_train, y_pred = pred_train, target_names = classes))\n",
    "print(\"Accuracy \", accuracy_score(y_true = y_train, y_pred = pred_train))\n",
    "print()\n",
    "print(\"Validation\")\n",
    "print(classification_report(y_true = y_valid, y_pred = pred_val, target_names = classes))\n",
    "print(\"Accuracy \", accuracy_score(y_true = y_valid, y_pred = pred_val))"
   ]
  },
  {
   "cell_type": "code",
   "execution_count": 12,
   "id": "837806fb-7d6c-48f9-bf27-7fc0f4bc9c47",
   "metadata": {},
   "outputs": [
    {
     "name": "stdout",
     "output_type": "stream",
     "text": [
      "Classification Report\n",
      "Training\n",
      "                 precision    recall  f1-score   support\n",
      "\n",
      "          Drama       1.00      1.00      1.00     14014\n",
      "         Comedy       0.99      1.00      1.00      8955\n",
      "       Thriller       1.00      1.00      1.00      5338\n",
      "        Romance       1.00      0.99      1.00      4640\n",
      "         Action       1.00      1.00      1.00      4687\n",
      "         Horror       1.00      1.00      1.00      3242\n",
      "          Crime       1.00      1.00      1.00      3031\n",
      "    Documentary       1.00      1.00      1.00      2732\n",
      "      Adventure       1.00      1.00      1.00      2472\n",
      "Science Fiction       1.00      1.00      1.00      2105\n",
      "         Family       1.00      0.99      0.99      1893\n",
      "        Mystery       1.00      1.00      1.00      1719\n",
      "        Fantasy       1.00      0.99      1.00      1577\n",
      "      Animation       1.00      0.99      0.99      1300\n",
      "        Foreign       1.00      0.98      0.99      1125\n",
      "          Music       1.00      0.99      1.00      1075\n",
      "        History       1.00      0.99      1.00       970\n",
      "            War       1.00      1.00      1.00       933\n",
      "        Western       1.00      1.00      1.00       730\n",
      "       TV Movie       1.00      0.99      1.00       530\n",
      "\n",
      "      micro avg       1.00      1.00      1.00     63068\n",
      "      macro avg       1.00      0.99      1.00     63068\n",
      "   weighted avg       1.00      1.00      1.00     63068\n",
      "    samples avg       1.00      1.00      1.00     63068\n",
      "\n",
      "Accuracy  0.99335043542834\n",
      "\n",
      "Validation\n",
      "                 precision    recall  f1-score   support\n",
      "\n",
      "          Drama       0.64      0.69      0.66      6009\n",
      "         Comedy       0.69      0.24      0.35      3851\n",
      "       Thriller       0.57      0.08      0.15      2248\n",
      "        Romance       0.68      0.15      0.25      2033\n",
      "         Action       0.75      0.07      0.12      1878\n",
      "         Horror       0.68      0.11      0.18      1418\n",
      "          Crime       0.55      0.09      0.16      1238\n",
      "    Documentary       0.88      0.42      0.57      1154\n",
      "      Adventure       0.73      0.01      0.02       998\n",
      "Science Fiction       0.79      0.17      0.28       923\n",
      "         Family       0.57      0.00      0.01       839\n",
      "        Mystery       0.61      0.02      0.03       732\n",
      "        Fantasy       0.83      0.01      0.01       713\n",
      "      Animation       0.90      0.07      0.13       620\n",
      "        Foreign       0.75      0.01      0.01       474\n",
      "          Music       0.61      0.04      0.08       513\n",
      "        History       0.00      0.00      0.00       409\n",
      "            War       0.76      0.07      0.14       377\n",
      "        Western       0.75      0.02      0.04       305\n",
      "       TV Movie       0.33      0.00      0.01       221\n",
      "\n",
      "      micro avg       0.66      0.25      0.36     26953\n",
      "      macro avg       0.65      0.11      0.16     26953\n",
      "   weighted avg       0.67      0.25      0.30     26953\n",
      "    samples avg       0.48      0.31      0.35     26953\n",
      "\n",
      "Accuracy  0.15931642778390298\n"
     ]
    },
    {
     "name": "stderr",
     "output_type": "stream",
     "text": [
      "/Users/ghaithkazma/.pyenv/versions/3.11.3/envs/movies/lib/python3.11/site-packages/sklearn/metrics/_classification.py:1344: UndefinedMetricWarning: Precision and F-score are ill-defined and being set to 0.0 in samples with no predicted labels. Use `zero_division` parameter to control this behavior.\n",
      "  _warn_prf(average, modifier, msg_start, len(result))\n",
      "/Users/ghaithkazma/.pyenv/versions/3.11.3/envs/movies/lib/python3.11/site-packages/sklearn/metrics/_classification.py:1344: UndefinedMetricWarning: Precision and F-score are ill-defined and being set to 0.0 in samples with no predicted labels. Use `zero_division` parameter to control this behavior.\n",
      "  _warn_prf(average, modifier, msg_start, len(result))\n"
     ]
    }
   ],
   "source": [
    "from sklearn.ensemble import RandomForestClassifier\n",
    "\n",
    "model = RandomForestClassifier()\n",
    "model.fit(X_train_vec, y_train)\n",
    "\n",
    "pred_train, pred_val = model.predict(X_train_vec), model.predict(X_valid_vec)\n",
    "\n",
    "from sklearn.metrics import classification_report, accuracy_score\n",
    "print(\"Classification Report\")\n",
    "print(\"Training\")\n",
    "print(classification_report(y_true = y_train, y_pred = pred_train, target_names = classes))\n",
    "print(\"Accuracy \", accuracy_score(y_true = y_train, y_pred = pred_train))\n",
    "print()\n",
    "print(\"Validation\")\n",
    "print(classification_report(y_true = y_valid, y_pred = pred_val, target_names = classes))\n",
    "print(\"Accuracy \", accuracy_score(y_true = y_valid, y_pred = pred_val))"
   ]
  },
  {
   "cell_type": "code",
   "execution_count": 13,
   "id": "76a72db2-8f7d-4d19-a28f-51ba53a2d606",
   "metadata": {},
   "outputs": [
    {
     "name": "stdout",
     "output_type": "stream",
     "text": [
      "Iteration 1, loss = 9.31938872\n",
      "Validation score: 0.019689\n",
      "Iteration 2, loss = 5.81794817\n",
      "Validation score: 0.085284\n",
      "Iteration 3, loss = 5.43152859\n",
      "Validation score: 0.089671\n",
      "Iteration 4, loss = 5.04831381\n",
      "Validation score: 0.118587\n",
      "Iteration 5, loss = 4.76907115\n",
      "Validation score: 0.141427\n",
      "Iteration 6, loss = 4.58432986\n",
      "Validation score: 0.153578\n",
      "Iteration 7, loss = 4.45083366\n",
      "Validation score: 0.162466\n",
      "Iteration 8, loss = 4.35046803\n",
      "Validation score: 0.165729\n",
      "Iteration 9, loss = 4.27471528\n",
      "Validation score: 0.168317\n",
      "Iteration 10, loss = 4.21601015\n",
      "Validation score: 0.170680\n",
      "Iteration 11, loss = 4.16871617\n",
      "Validation score: 0.171242\n",
      "Iteration 12, loss = 4.12843861\n",
      "Validation score: 0.171692\n",
      "Iteration 13, loss = 4.09348575\n",
      "Validation score: 0.172255\n",
      "Iteration 14, loss = 4.06335705\n",
      "Validation score: 0.173830\n",
      "Iteration 15, loss = 4.03589272\n",
      "Validation score: 0.174392\n",
      "Iteration 16, loss = 4.01059094\n",
      "Validation score: 0.174280\n",
      "Iteration 17, loss = 3.98746658\n",
      "Validation score: 0.173717\n",
      "Iteration 18, loss = 3.96512837\n",
      "Validation score: 0.173492\n",
      "Iteration 19, loss = 3.94439596\n",
      "Validation score: 0.174955\n",
      "Iteration 20, loss = 3.92459522\n",
      "Validation score: 0.174392\n",
      "Iteration 21, loss = 3.90533243\n",
      "Validation score: 0.174392\n",
      "Iteration 22, loss = 3.88690761\n",
      "Validation score: 0.174392\n",
      "Iteration 23, loss = 3.86822920\n",
      "Validation score: 0.173830\n",
      "Iteration 24, loss = 3.85063964\n",
      "Validation score: 0.175180\n",
      "Iteration 25, loss = 3.83351359\n",
      "Validation score: 0.174167\n",
      "Iteration 26, loss = 3.81707731\n",
      "Validation score: 0.173492\n",
      "Iteration 27, loss = 3.80006427\n",
      "Validation score: 0.173042\n",
      "Iteration 28, loss = 3.78494778\n",
      "Validation score: 0.173155\n",
      "Iteration 29, loss = 3.76856491\n",
      "Validation score: 0.171580\n",
      "Iteration 30, loss = 3.75309497\n",
      "Validation score: 0.172705\n",
      "Iteration 31, loss = 3.73689616\n",
      "Validation score: 0.172367\n",
      "Iteration 32, loss = 3.72304183\n",
      "Validation score: 0.169779\n",
      "Iteration 33, loss = 3.70769094\n",
      "Validation score: 0.172255\n",
      "Iteration 34, loss = 3.69280853\n",
      "Validation score: 0.169554\n",
      "Iteration 35, loss = 3.67812738\n",
      "Validation score: 0.170567\n",
      "Validation score did not improve more than tol=0.000100 for 10 consecutive epochs. Stopping.\n",
      "Classification Report\n",
      "Training\n",
      "                 precision    recall  f1-score   support\n",
      "\n",
      "          Drama       0.70      0.70      0.70     14014\n",
      "         Comedy       0.69      0.48      0.56      8955\n",
      "       Thriller       0.64      0.35      0.45      5338\n",
      "        Romance       0.66      0.33      0.44      4640\n",
      "         Action       0.66      0.38      0.49      4687\n",
      "         Horror       0.74      0.43      0.54      3242\n",
      "          Crime       0.66      0.32      0.43      3031\n",
      "    Documentary       0.85      0.61      0.71      2732\n",
      "      Adventure       0.63      0.19      0.29      2472\n",
      "Science Fiction       0.76      0.41      0.53      2105\n",
      "         Family       0.71      0.24      0.36      1893\n",
      "        Mystery       0.63      0.16      0.25      1719\n",
      "        Fantasy       0.64      0.15      0.24      1577\n",
      "      Animation       0.75      0.18      0.30      1300\n",
      "        Foreign       0.00      0.00      0.00      1125\n",
      "          Music       0.72      0.31      0.43      1075\n",
      "        History       0.60      0.12      0.19       970\n",
      "            War       0.70      0.37      0.49       933\n",
      "        Western       0.81      0.38      0.51       730\n",
      "       TV Movie       0.00      0.00      0.00       530\n",
      "\n",
      "      micro avg       0.70      0.43      0.53     63068\n",
      "      macro avg       0.63      0.31      0.40     63068\n",
      "   weighted avg       0.67      0.43      0.50     63068\n",
      "    samples avg       0.62      0.48      0.51     63068\n",
      "\n",
      "Accuracy  0.20819550394923378\n",
      "\n",
      "Validation\n",
      "                 precision    recall  f1-score   support\n",
      "\n",
      "          Drama       0.67      0.66      0.67      6009\n",
      "         Comedy       0.62      0.44      0.52      3851\n",
      "       Thriller       0.56      0.29      0.39      2248\n",
      "        Romance       0.59      0.29      0.39      2033\n",
      "         Action       0.57      0.34      0.43      1878\n",
      "         Horror       0.68      0.40      0.51      1418\n",
      "          Crime       0.56      0.26      0.35      1238\n",
      "    Documentary       0.81      0.57      0.67      1154\n",
      "      Adventure       0.43      0.13      0.20       998\n",
      "Science Fiction       0.71      0.37      0.49       923\n",
      "         Family       0.58      0.21      0.31       839\n",
      "        Mystery       0.44      0.11      0.17       732\n",
      "        Fantasy       0.58      0.13      0.22       713\n",
      "      Animation       0.71      0.17      0.28       620\n",
      "        Foreign       0.00      0.00      0.00       474\n",
      "          Music       0.60      0.21      0.32       513\n",
      "        History       0.37      0.05      0.09       409\n",
      "            War       0.65      0.33      0.44       377\n",
      "        Western       0.75      0.34      0.47       305\n",
      "       TV Movie       0.00      0.00      0.00       221\n",
      "\n",
      "      micro avg       0.64      0.39      0.48     26953\n",
      "      macro avg       0.54      0.27      0.34     26953\n",
      "   weighted avg       0.60      0.39      0.45     26953\n",
      "    samples avg       0.57      0.44      0.46     26953\n",
      "\n",
      "Accuracy  0.18239092770515042\n"
     ]
    },
    {
     "name": "stderr",
     "output_type": "stream",
     "text": [
      "/Users/ghaithkazma/.pyenv/versions/3.11.3/envs/movies/lib/python3.11/site-packages/sklearn/metrics/_classification.py:1344: UndefinedMetricWarning: Precision and F-score are ill-defined and being set to 0.0 in labels with no predicted samples. Use `zero_division` parameter to control this behavior.\n",
      "  _warn_prf(average, modifier, msg_start, len(result))\n",
      "/Users/ghaithkazma/.pyenv/versions/3.11.3/envs/movies/lib/python3.11/site-packages/sklearn/metrics/_classification.py:1344: UndefinedMetricWarning: Precision and F-score are ill-defined and being set to 0.0 in samples with no predicted labels. Use `zero_division` parameter to control this behavior.\n",
      "  _warn_prf(average, modifier, msg_start, len(result))\n",
      "/Users/ghaithkazma/.pyenv/versions/3.11.3/envs/movies/lib/python3.11/site-packages/sklearn/metrics/_classification.py:1344: UndefinedMetricWarning: Precision and F-score are ill-defined and being set to 0.0 in labels with no predicted samples. Use `zero_division` parameter to control this behavior.\n",
      "  _warn_prf(average, modifier, msg_start, len(result))\n",
      "/Users/ghaithkazma/.pyenv/versions/3.11.3/envs/movies/lib/python3.11/site-packages/sklearn/metrics/_classification.py:1344: UndefinedMetricWarning: Precision and F-score are ill-defined and being set to 0.0 in samples with no predicted labels. Use `zero_division` parameter to control this behavior.\n",
      "  _warn_prf(average, modifier, msg_start, len(result))\n"
     ]
    }
   ],
   "source": [
    "from sklearn.neural_network import MLPClassifier\n",
    "\n",
    "model = MLPClassifier(verbose = True, \n",
    "                      early_stopping=True,\n",
    "                      validation_fraction=0.3,\n",
    "                      max_iter = 150, \n",
    "                      hidden_layer_sizes=(100))\n",
    "model.fit(X_train_vec, y_train)\n",
    "\n",
    "pred_train, pred_val = model.predict(X_train_vec), model.predict(X_valid_vec)\n",
    "\n",
    "from sklearn.metrics import classification_report, accuracy_score\n",
    "print(\"Classification Report\")\n",
    "print(\"Training\")\n",
    "print(classification_report(y_true = y_train, y_pred = pred_train, target_names = classes))\n",
    "print(\"Accuracy \", accuracy_score(y_true = y_train, y_pred = pred_train))\n",
    "print()\n",
    "print(\"Validation\")\n",
    "print(classification_report(y_true = y_valid, y_pred = pred_val, target_names = classes))\n",
    "print(\"Accuracy \", accuracy_score(y_true = y_valid, y_pred = pred_val))"
   ]
  },
  {
   "cell_type": "code",
   "execution_count": 14,
   "id": "23e3db56-13ad-4598-ab7e-12a565e1a7ae",
   "metadata": {},
   "outputs": [
    {
     "name": "stdout",
     "output_type": "stream",
     "text": [
      "69584\n"
     ]
    }
   ],
   "source": [
    "from keras.preprocessing.text import Tokenizer\n",
    "from keras.utils import pad_sequences\n",
    "vect=Tokenizer()\n",
    "vect.fit_on_texts(X_train)\n",
    "vocab_size = len(vect.word_index) + 1\n",
    "print(vocab_size)"
   ]
  },
  {
   "cell_type": "code",
   "execution_count": 15,
   "id": "83964e93-c403-4308-be16-933060afce35",
   "metadata": {},
   "outputs": [],
   "source": [
    "max_len = X_train.apply(lambda x: len(x.split())).max()"
   ]
  },
  {
   "cell_type": "code",
   "execution_count": 16,
   "id": "5b5a1ec5-0d81-40b5-89dd-d4b9cbc9e7a6",
   "metadata": {},
   "outputs": [
    {
     "name": "stdout",
     "output_type": "stream",
     "text": [
      "[[16253     2    41 ...     0     0     0]\n",
      " [    2  9166   868 ...     0     0     0]\n",
      " [ 2557    67  4529 ...     0     0     0]\n",
      " ...\n",
      " [   17     1  1445 ...     0     0     0]\n",
      " [12652  2593  9866 ...     0     0     0]\n",
      " [    2  1889     5 ...     0     0     0]]\n"
     ]
    }
   ],
   "source": [
    "encoded_docs_train = vect.texts_to_sequences(X_train)\n",
    "max_length = vocab_size\n",
    "padded_docs_train = pad_sequences(encoded_docs_train, maxlen=max_len, padding='post')\n",
    "print(padded_docs_train)"
   ]
  },
  {
   "cell_type": "code",
   "execution_count": 20,
   "id": "64314da5-bf80-48ab-98bb-6ea0f08789de",
   "metadata": {},
   "outputs": [
    {
     "data": {
      "text/plain": [
       "69583"
      ]
     },
     "execution_count": 20,
     "metadata": {},
     "output_type": "execute_result"
    }
   ],
   "source": [
    "padded_docs_train.max()"
   ]
  },
  {
   "cell_type": "code",
   "execution_count": 19,
   "id": "9d4766d4-0faa-44d0-8f6d-a9cb9d34078d",
   "metadata": {},
   "outputs": [
    {
     "data": {
      "text/plain": [
       "17984    NELU, a man in his forties, works as a securit...\n",
       "25661    A sociopathic stranger all but destroys a smal...\n",
       "6505     Julia finds 300 million pesetas hidden in a de...\n",
       "18271    1981, Morocco. A village in the Atlas mountain...\n",
       "20623    After losing contact with Earth, Astronaut Lee...\n",
       "                               ...                        \n",
       "39168    As a valiant Chinese general and his men battl...\n",
       "25544    Four young outsiders teleport to a dangerous u...\n",
       "11513    As the kingdom of Devigarh comes apart at the ...\n",
       "1688     Dimwitted, somewhat misanthropic Oslo mail car...\n",
       "5994     A collection of magical tales based upon the a...\n",
       "Name: overview, Length: 29626, dtype: object"
      ]
     },
     "execution_count": 19,
     "metadata": {},
     "output_type": "execute_result"
    }
   ],
   "source": [
    "X_train"
   ]
  },
  {
   "cell_type": "code",
   "execution_count": 17,
   "id": "bac73cb9-4008-44a1-8c7b-b4765a9577d1",
   "metadata": {},
   "outputs": [],
   "source": [
    "encoded_docs_test =  vect.texts_to_sequences(X_valid)\n",
    "padded_docs_test = pad_sequences(encoded_docs_test, maxlen=max_len, padding='post')\n",
    "encoded_docs_cv = vect.texts_to_sequences(X_valid)\n",
    "padded_docs_cv = pad_sequences(encoded_docs_cv, maxlen=max_len, padding='post')"
   ]
  },
  {
   "cell_type": "code",
   "execution_count": 357,
   "id": "f9401bd3-fc41-4af7-aa00-9723f5c74095",
   "metadata": {},
   "outputs": [
    {
     "name": "stdout",
     "output_type": "stream",
     "text": [
      "Model: \"sequential_7\"\n",
      "_________________________________________________________________\n",
      " Layer (type)                Output Shape              Param #   \n",
      "=================================================================\n",
      " embedding_5 (Embedding)     (None, 187, 50)           3479200   \n",
      "                                                                 \n",
      " lstm_6 (LSTM)               (None, 187, 128)          91648     \n",
      "                                                                 \n",
      " dropout_7 (Dropout)         (None, 187, 128)          0         \n",
      "                                                                 \n",
      " lstm_7 (LSTM)               (None, 64)                49408     \n",
      "                                                                 \n",
      " dropout_8 (Dropout)         (None, 64)                0         \n",
      "                                                                 \n",
      " dense_4 (Dense)             (None, 20)                1300      \n",
      "                                                                 \n",
      "=================================================================\n",
      "Total params: 3621556 (13.82 MB)\n",
      "Trainable params: 3621556 (13.82 MB)\n",
      "Non-trainable params: 0 (0.00 Byte)\n",
      "_________________________________________________________________\n"
     ]
    }
   ],
   "source": [
    "from tensorflow.keras.layers import LSTM\n",
    "\n",
    "model = Sequential()\n",
    "# Configuring the parameters\n",
    "model.add(Embedding(vocab_size, output_dim=50, input_length=max_len))\n",
    "model.add(LSTM(128, return_sequences=True))  \n",
    "# Adding a dropout layer\n",
    "model.add(Dropout(0.5))\n",
    "model.add(LSTM(64))\n",
    "model.add(Dropout(0.5))\n",
    "# Adding a dense output layer with sigmoid activation\n",
    "model.add(Dense(len(classes), activation='sigmoid'))\n",
    "model.summary()"
   ]
  },
  {
   "cell_type": "code",
   "execution_count": 358,
   "id": "ddb0c034-77c4-4485-bf6f-4a4373d05105",
   "metadata": {},
   "outputs": [
    {
     "name": "stdout",
     "output_type": "stream",
     "text": [
      "Epoch 1/5\n",
      "834/834 [==============================] - 163s 194ms/step - loss: 0.3115 - val_loss: 0.2936\n",
      "Epoch 2/5\n",
      "834/834 [==============================] - 154s 184ms/step - loss: 0.2967 - val_loss: 0.2932\n",
      "Epoch 3/5\n",
      "834/834 [==============================] - 156s 187ms/step - loss: 0.2955 - val_loss: 0.2933\n",
      "Epoch 4/5\n",
      "834/834 [==============================] - 152s 182ms/step - loss: 0.2945 - val_loss: 0.2932\n",
      "Epoch 5/5\n",
      "834/834 [==============================] - 151s 181ms/step - loss: 0.2940 - val_loss: 0.2931\n"
     ]
    }
   ],
   "source": [
    "model.compile(optimizer='adam', loss='binary_crossentropy')\n",
    "history = model.fit(padded_docs_train, y_train,\n",
    "                    epochs=5,\n",
    "                    batch_size=32,\n",
    "                    validation_split=0.1,\n",
    "                    callbacks=[])"
   ]
  },
  {
   "cell_type": "code",
   "execution_count": 362,
   "id": "0a4bf73f-5138-4685-8c02-ffd33db529ed",
   "metadata": {},
   "outputs": [
    {
     "name": "stdout",
     "output_type": "stream",
     "text": [
      "397/397 [==============================] - 20s 51ms/step\n"
     ]
    }
   ],
   "source": [
    "predictions = model.predict([padded_docs_test])"
   ]
  },
  {
   "cell_type": "code",
   "execution_count": 364,
   "id": "6b0e5886-e3a1-4d55-924f-3df696cc7e9c",
   "metadata": {},
   "outputs": [
    {
     "name": "stdout",
     "output_type": "stream",
     "text": [
      "Threshold: 0.1000, Accuracy: 0.0000, Precision: 0.2289, Recall: 0.6469, F1-measure: 0.3381\n",
      "Threshold: 0.2000, Accuracy: 0.0365, Precision: 0.3883, Recall: 0.3658, F1-measure: 0.3767\n",
      "Threshold: 0.3000, Accuracy: 0.0365, Precision: 0.3883, Recall: 0.3658, F1-measure: 0.3767\n",
      "Threshold: 0.4000, Accuracy: 0.1179, Precision: 0.4732, Recall: 0.2229, F1-measure: 0.3031\n"
     ]
    },
    {
     "name": "stderr",
     "output_type": "stream",
     "text": [
      "/Users/ghaithkazma/.pyenv/versions/3.11.3/envs/movies/lib/python3.11/site-packages/sklearn/metrics/_classification.py:1344: UndefinedMetricWarning: Precision is ill-defined and being set to 0.0 due to no predicted samples. Use `zero_division` parameter to control this behavior.\n",
      "  _warn_prf(average, modifier, msg_start, len(result))\n",
      "/Users/ghaithkazma/.pyenv/versions/3.11.3/envs/movies/lib/python3.11/site-packages/sklearn/metrics/_classification.py:1344: UndefinedMetricWarning: Precision is ill-defined and being set to 0.0 due to no predicted samples. Use `zero_division` parameter to control this behavior.\n",
      "  _warn_prf(average, modifier, msg_start, len(result))\n",
      "/Users/ghaithkazma/.pyenv/versions/3.11.3/envs/movies/lib/python3.11/site-packages/sklearn/metrics/_classification.py:1344: UndefinedMetricWarning: Precision is ill-defined and being set to 0.0 due to no predicted samples. Use `zero_division` parameter to control this behavior.\n",
      "  _warn_prf(average, modifier, msg_start, len(result))\n",
      "/Users/ghaithkazma/.pyenv/versions/3.11.3/envs/movies/lib/python3.11/site-packages/sklearn/metrics/_classification.py:1344: UndefinedMetricWarning: Precision is ill-defined and being set to 0.0 due to no predicted samples. Use `zero_division` parameter to control this behavior.\n",
      "  _warn_prf(average, modifier, msg_start, len(result))\n"
     ]
    },
    {
     "name": "stdout",
     "output_type": "stream",
     "text": [
      "Threshold: 0.5000, Accuracy: 0.0000, Precision: 0.0000, Recall: 0.0000, F1-measure: 0.0000\n",
      "Threshold: 0.6000, Accuracy: 0.0000, Precision: 0.0000, Recall: 0.0000, F1-measure: 0.0000\n",
      "Threshold: 0.7000, Accuracy: 0.0000, Precision: 0.0000, Recall: 0.0000, F1-measure: 0.0000\n",
      "Threshold: 0.8000, Accuracy: 0.0000, Precision: 0.0000, Recall: 0.0000, F1-measure: 0.0000\n",
      "Threshold: 0.9000, Accuracy: 0.0000, Precision: 0.0000, Recall: 0.0000, F1-measure: 0.0000\n"
     ]
    },
    {
     "name": "stderr",
     "output_type": "stream",
     "text": [
      "/Users/ghaithkazma/.pyenv/versions/3.11.3/envs/movies/lib/python3.11/site-packages/sklearn/metrics/_classification.py:1344: UndefinedMetricWarning: Precision is ill-defined and being set to 0.0 due to no predicted samples. Use `zero_division` parameter to control this behavior.\n",
      "  _warn_prf(average, modifier, msg_start, len(result))\n"
     ]
    }
   ],
   "source": [
    "from sklearn.metrics import classification_report, accuracy_score, precision_score, recall_score, f1_score\n",
    "\n",
    "thresholds=[0.1,0.2,0.3,0.4,0.5,0.6,0.7,0.8,0.9]\n",
    "for val in thresholds:\n",
    "    pred=predictions.copy()\n",
    "  \n",
    "    pred[pred>=val]=1\n",
    "    pred[pred<val]=0\n",
    "\n",
    "    accuracy = accuracy_score(y_valid, pred)\n",
    "    precision = precision_score(y_valid, pred, average='micro')\n",
    "    recall = recall_score(y_valid, pred, average='micro')\n",
    "    f1 = f1_score(y_valid, pred, average='micro')\n",
    "   \n",
    "    # print(\"Micro-average quality numbers\")\n",
    "    print(\"Threshold: {:.4f}, Accuracy: {:.4f}, Precision: {:.4f}, Recall: {:.4f}, F1-measure: {:.4f}\".format(val, accuracy, precision, recall, f1))"
   ]
  },
  {
   "cell_type": "code",
   "execution_count": 403,
   "id": "c2cc8453-00a2-4941-9b33-a5db6629f5cd",
   "metadata": {},
   "outputs": [
    {
     "name": "stdout",
     "output_type": "stream",
     "text": [
      "Model: \"sequential_15\"\n",
      "_________________________________________________________________\n",
      " Layer (type)                Output Shape              Param #   \n",
      "=================================================================\n",
      " embedding_13 (Embedding)    (None, 187, 50)           3479200   \n",
      "                                                                 \n",
      " conv1d_29 (Conv1D)          (None, 185, 64)           9664      \n",
      "                                                                 \n",
      " conv1d_30 (Conv1D)          (None, 183, 48)           9264      \n",
      "                                                                 \n",
      " flatten_6 (Flatten)         (None, 8784)              0         \n",
      "                                                                 \n",
      " dense_11 (Dense)            (None, 20)                175700    \n",
      "                                                                 \n",
      "=================================================================\n",
      "Total params: 3673828 (14.01 MB)\n",
      "Trainable params: 3673828 (14.01 MB)\n",
      "Non-trainable params: 0 (0.00 Byte)\n",
      "_________________________________________________________________\n"
     ]
    }
   ],
   "source": [
    "from tensorflow.keras.layers import Flatten\n",
    "\n",
    "model = Sequential()\n",
    "model.add(Embedding(vocab_size, output_dim=50, input_length=max_len))\n",
    "model.add(Conv1D(64, 3, activation='sigmoid'))\n",
    "# model.add(Conv1D(100, 3, activation='sigmoid'))\n",
    "# model.add(Conv1D(100, 3, activation='sigmoid'))\n",
    "# model.add(Dropout(0.70))\n",
    "model.add(Conv1D(48, 3, activation='sigmoid'))\n",
    "model.add(Flatten())\n",
    "model.add(Dense(len(classes), activation='sigmoid'))\n",
    "\n",
    "model.summary()\n",
    "\n",
    "model.compile(optimizer='adam', loss='binary_crossentropy')"
   ]
  },
  {
   "cell_type": "code",
   "execution_count": 404,
   "id": "cc7e004b-f137-469d-8d98-7bf0a7066c00",
   "metadata": {},
   "outputs": [
    {
     "name": "stdout",
     "output_type": "stream",
     "text": [
      "Epoch 1/3\n",
      "1852/1852 [==============================] - 17s 9ms/step - loss: 0.2875 - val_loss: 0.2792\n",
      "Epoch 2/3\n",
      "1852/1852 [==============================] - 15s 8ms/step - loss: 0.2708 - val_loss: 0.2787\n",
      "Epoch 3/3\n",
      "1852/1852 [==============================] - 15s 8ms/step - loss: 0.2622 - val_loss: 0.2812\n"
     ]
    }
   ],
   "source": [
    "history = model.fit(padded_docs_train, y_train,\n",
    "                        epochs=3,\n",
    "                        validation_data=(padded_docs_test, y_valid),\n",
    "                        batch_size=16)"
   ]
  },
  {
   "cell_type": "code",
   "execution_count": 405,
   "id": "7003b744-ef39-4aba-87d8-37e4d11bf119",
   "metadata": {},
   "outputs": [
    {
     "name": "stdout",
     "output_type": "stream",
     "text": [
      "397/397 [==============================] - 1s 2ms/step\n"
     ]
    }
   ],
   "source": [
    "predictions = model.predict([padded_docs_test])"
   ]
  },
  {
   "cell_type": "code",
   "execution_count": 406,
   "id": "bff0cb52-54a7-4998-9b2d-28fdf13602d0",
   "metadata": {},
   "outputs": [
    {
     "name": "stdout",
     "output_type": "stream",
     "text": [
      "Threshold: 0.1000, Accuracy: 0.0166, Precision: 0.2782, Recall: 0.6722, F1-measure: 0.3935\n",
      "Threshold: 0.2000, Accuracy: 0.0343, Precision: 0.3705, Recall: 0.5043, F1-measure: 0.4272\n",
      "Threshold: 0.3000, Accuracy: 0.0662, Precision: 0.4341, Recall: 0.3795, F1-measure: 0.4050\n",
      "Threshold: 0.4000, Accuracy: 0.0854, Precision: 0.4903, Recall: 0.2745, F1-measure: 0.3520\n",
      "Threshold: 0.5000, Accuracy: 0.0777, Precision: 0.5388, Recall: 0.1844, F1-measure: 0.2747\n",
      "Threshold: 0.6000, Accuracy: 0.0553, Precision: 0.5772, Recall: 0.1106, F1-measure: 0.1857\n",
      "Threshold: 0.7000, Accuracy: 0.0295, Precision: 0.6157, Recall: 0.0589, F1-measure: 0.1075\n",
      "Threshold: 0.8000, Accuracy: 0.0108, Precision: 0.6355, Recall: 0.0222, F1-measure: 0.0429\n",
      "Threshold: 0.9000, Accuracy: 0.0024, Precision: 0.6325, Recall: 0.0039, F1-measure: 0.0077\n"
     ]
    }
   ],
   "source": [
    "from sklearn.metrics import classification_report, accuracy_score, precision_score, recall_score, f1_score\n",
    "\n",
    "thresholds=[0.1,0.2,0.3,0.4,0.5,0.6,0.7,0.8,0.9]\n",
    "for val in thresholds:\n",
    "    pred=predictions.copy()\n",
    "  \n",
    "    pred[pred>=val]=1\n",
    "    pred[pred<val]=0\n",
    "\n",
    "    accuracy = accuracy_score(y_valid, pred)\n",
    "    precision = precision_score(y_valid, pred, average='micro')\n",
    "    recall = recall_score(y_valid, pred, average='micro')\n",
    "    f1 = f1_score(y_valid, pred, average='micro')\n",
    "   \n",
    "    # print(\"Micro-average quality numbers\")\n",
    "    print(\"Threshold: {:.4f}, Accuracy: {:.4f}, Precision: {:.4f}, Recall: {:.4f}, F1-measure: {:.4f}\".format(val, accuracy, precision, recall, f1))"
   ]
  },
  {
   "cell_type": "code",
   "execution_count": 396,
   "id": "3e485c00-71fe-4da0-89f4-dcd8d60dcda8",
   "metadata": {},
   "outputs": [
    {
     "data": {
      "text/plain": [
       "6.0"
      ]
     },
     "execution_count": 396,
     "metadata": {},
     "output_type": "execute_result"
    }
   ],
   "source": []
  },
  {
   "cell_type": "code",
   "execution_count": 407,
   "id": "a6a2519e-6db0-4b0c-b696-81206330626d",
   "metadata": {},
   "outputs": [
    {
     "ename": "HTTPError",
     "evalue": "HTTP Error 400: Bad Request",
     "output_type": "error",
     "traceback": [
      "\u001b[0;31m---------------------------------------------------------------------------\u001b[0m",
      "\u001b[0;31mHTTPError\u001b[0m                                 Traceback (most recent call last)",
      "Cell \u001b[0;32mIn[407], line 1\u001b[0m\n\u001b[0;32m----> 1\u001b[0m \u001b[43mpd\u001b[49m\u001b[38;5;241;43m.\u001b[39;49m\u001b[43mread_csv\u001b[49m\u001b[43m(\u001b[49m\u001b[38;5;124;43m\"\u001b[39;49m\u001b[38;5;124;43mhttps://storage.googleapis.com/kaggle-data-sets/3405/6663/compressed/movies_metadata.csv.zip?X-Goog-Algorithm=GOOG4-RSA-SHA256&X-Goog-Credential=gcp-kaggle-com\u001b[39;49m\u001b[38;5;124;43m%\u001b[39;49m\u001b[38;5;124;43m40kaggle-161607.iam.gserviceaccount.com\u001b[39;49m\u001b[38;5;132;43;01m%2F\u001b[39;49;00m\u001b[38;5;124;43m20230602\u001b[39;49m\u001b[38;5;132;43;01m%2F\u001b[39;49;00m\u001b[38;5;124;43mauto\u001b[39;49m\u001b[38;5;132;43;01m%2F\u001b[39;49;00m\u001b[38;5;124;43mstorage\u001b[39;49m\u001b[38;5;132;43;01m%2F\u001b[39;49;00m\u001b[38;5;124;43mgoog4_request&X-Goog-Date=20230602T222944Z&X-Goog-Expires=259200&X-Goo\u001b[39;49m\u001b[38;5;124;43m\"\u001b[39;49m\u001b[43m)\u001b[49m\n",
      "File \u001b[0;32m~/.pyenv/versions/3.11.3/envs/movies/lib/python3.11/site-packages/pandas/io/parsers/readers.py:912\u001b[0m, in \u001b[0;36mread_csv\u001b[0;34m(filepath_or_buffer, sep, delimiter, header, names, index_col, usecols, dtype, engine, converters, true_values, false_values, skipinitialspace, skiprows, skipfooter, nrows, na_values, keep_default_na, na_filter, verbose, skip_blank_lines, parse_dates, infer_datetime_format, keep_date_col, date_parser, date_format, dayfirst, cache_dates, iterator, chunksize, compression, thousands, decimal, lineterminator, quotechar, quoting, doublequote, escapechar, comment, encoding, encoding_errors, dialect, on_bad_lines, delim_whitespace, low_memory, memory_map, float_precision, storage_options, dtype_backend)\u001b[0m\n\u001b[1;32m    899\u001b[0m kwds_defaults \u001b[38;5;241m=\u001b[39m _refine_defaults_read(\n\u001b[1;32m    900\u001b[0m     dialect,\n\u001b[1;32m    901\u001b[0m     delimiter,\n\u001b[0;32m   (...)\u001b[0m\n\u001b[1;32m    908\u001b[0m     dtype_backend\u001b[38;5;241m=\u001b[39mdtype_backend,\n\u001b[1;32m    909\u001b[0m )\n\u001b[1;32m    910\u001b[0m kwds\u001b[38;5;241m.\u001b[39mupdate(kwds_defaults)\n\u001b[0;32m--> 912\u001b[0m \u001b[38;5;28;01mreturn\u001b[39;00m \u001b[43m_read\u001b[49m\u001b[43m(\u001b[49m\u001b[43mfilepath_or_buffer\u001b[49m\u001b[43m,\u001b[49m\u001b[43m \u001b[49m\u001b[43mkwds\u001b[49m\u001b[43m)\u001b[49m\n",
      "File \u001b[0;32m~/.pyenv/versions/3.11.3/envs/movies/lib/python3.11/site-packages/pandas/io/parsers/readers.py:577\u001b[0m, in \u001b[0;36m_read\u001b[0;34m(filepath_or_buffer, kwds)\u001b[0m\n\u001b[1;32m    574\u001b[0m _validate_names(kwds\u001b[38;5;241m.\u001b[39mget(\u001b[38;5;124m\"\u001b[39m\u001b[38;5;124mnames\u001b[39m\u001b[38;5;124m\"\u001b[39m, \u001b[38;5;28;01mNone\u001b[39;00m))\n\u001b[1;32m    576\u001b[0m \u001b[38;5;66;03m# Create the parser.\u001b[39;00m\n\u001b[0;32m--> 577\u001b[0m parser \u001b[38;5;241m=\u001b[39m \u001b[43mTextFileReader\u001b[49m\u001b[43m(\u001b[49m\u001b[43mfilepath_or_buffer\u001b[49m\u001b[43m,\u001b[49m\u001b[43m \u001b[49m\u001b[38;5;241;43m*\u001b[39;49m\u001b[38;5;241;43m*\u001b[39;49m\u001b[43mkwds\u001b[49m\u001b[43m)\u001b[49m\n\u001b[1;32m    579\u001b[0m \u001b[38;5;28;01mif\u001b[39;00m chunksize \u001b[38;5;129;01mor\u001b[39;00m iterator:\n\u001b[1;32m    580\u001b[0m     \u001b[38;5;28;01mreturn\u001b[39;00m parser\n",
      "File \u001b[0;32m~/.pyenv/versions/3.11.3/envs/movies/lib/python3.11/site-packages/pandas/io/parsers/readers.py:1407\u001b[0m, in \u001b[0;36mTextFileReader.__init__\u001b[0;34m(self, f, engine, **kwds)\u001b[0m\n\u001b[1;32m   1404\u001b[0m     \u001b[38;5;28mself\u001b[39m\u001b[38;5;241m.\u001b[39moptions[\u001b[38;5;124m\"\u001b[39m\u001b[38;5;124mhas_index_names\u001b[39m\u001b[38;5;124m\"\u001b[39m] \u001b[38;5;241m=\u001b[39m kwds[\u001b[38;5;124m\"\u001b[39m\u001b[38;5;124mhas_index_names\u001b[39m\u001b[38;5;124m\"\u001b[39m]\n\u001b[1;32m   1406\u001b[0m \u001b[38;5;28mself\u001b[39m\u001b[38;5;241m.\u001b[39mhandles: IOHandles \u001b[38;5;241m|\u001b[39m \u001b[38;5;28;01mNone\u001b[39;00m \u001b[38;5;241m=\u001b[39m \u001b[38;5;28;01mNone\u001b[39;00m\n\u001b[0;32m-> 1407\u001b[0m \u001b[38;5;28mself\u001b[39m\u001b[38;5;241m.\u001b[39m_engine \u001b[38;5;241m=\u001b[39m \u001b[38;5;28;43mself\u001b[39;49m\u001b[38;5;241;43m.\u001b[39;49m\u001b[43m_make_engine\u001b[49m\u001b[43m(\u001b[49m\u001b[43mf\u001b[49m\u001b[43m,\u001b[49m\u001b[43m \u001b[49m\u001b[38;5;28;43mself\u001b[39;49m\u001b[38;5;241;43m.\u001b[39;49m\u001b[43mengine\u001b[49m\u001b[43m)\u001b[49m\n",
      "File \u001b[0;32m~/.pyenv/versions/3.11.3/envs/movies/lib/python3.11/site-packages/pandas/io/parsers/readers.py:1661\u001b[0m, in \u001b[0;36mTextFileReader._make_engine\u001b[0;34m(self, f, engine)\u001b[0m\n\u001b[1;32m   1659\u001b[0m     \u001b[38;5;28;01mif\u001b[39;00m \u001b[38;5;124m\"\u001b[39m\u001b[38;5;124mb\u001b[39m\u001b[38;5;124m\"\u001b[39m \u001b[38;5;129;01mnot\u001b[39;00m \u001b[38;5;129;01min\u001b[39;00m mode:\n\u001b[1;32m   1660\u001b[0m         mode \u001b[38;5;241m+\u001b[39m\u001b[38;5;241m=\u001b[39m \u001b[38;5;124m\"\u001b[39m\u001b[38;5;124mb\u001b[39m\u001b[38;5;124m\"\u001b[39m\n\u001b[0;32m-> 1661\u001b[0m \u001b[38;5;28mself\u001b[39m\u001b[38;5;241m.\u001b[39mhandles \u001b[38;5;241m=\u001b[39m \u001b[43mget_handle\u001b[49m\u001b[43m(\u001b[49m\n\u001b[1;32m   1662\u001b[0m \u001b[43m    \u001b[49m\u001b[43mf\u001b[49m\u001b[43m,\u001b[49m\n\u001b[1;32m   1663\u001b[0m \u001b[43m    \u001b[49m\u001b[43mmode\u001b[49m\u001b[43m,\u001b[49m\n\u001b[1;32m   1664\u001b[0m \u001b[43m    \u001b[49m\u001b[43mencoding\u001b[49m\u001b[38;5;241;43m=\u001b[39;49m\u001b[38;5;28;43mself\u001b[39;49m\u001b[38;5;241;43m.\u001b[39;49m\u001b[43moptions\u001b[49m\u001b[38;5;241;43m.\u001b[39;49m\u001b[43mget\u001b[49m\u001b[43m(\u001b[49m\u001b[38;5;124;43m\"\u001b[39;49m\u001b[38;5;124;43mencoding\u001b[39;49m\u001b[38;5;124;43m\"\u001b[39;49m\u001b[43m,\u001b[49m\u001b[43m \u001b[49m\u001b[38;5;28;43;01mNone\u001b[39;49;00m\u001b[43m)\u001b[49m\u001b[43m,\u001b[49m\n\u001b[1;32m   1665\u001b[0m \u001b[43m    \u001b[49m\u001b[43mcompression\u001b[49m\u001b[38;5;241;43m=\u001b[39;49m\u001b[38;5;28;43mself\u001b[39;49m\u001b[38;5;241;43m.\u001b[39;49m\u001b[43moptions\u001b[49m\u001b[38;5;241;43m.\u001b[39;49m\u001b[43mget\u001b[49m\u001b[43m(\u001b[49m\u001b[38;5;124;43m\"\u001b[39;49m\u001b[38;5;124;43mcompression\u001b[39;49m\u001b[38;5;124;43m\"\u001b[39;49m\u001b[43m,\u001b[49m\u001b[43m \u001b[49m\u001b[38;5;28;43;01mNone\u001b[39;49;00m\u001b[43m)\u001b[49m\u001b[43m,\u001b[49m\n\u001b[1;32m   1666\u001b[0m \u001b[43m    \u001b[49m\u001b[43mmemory_map\u001b[49m\u001b[38;5;241;43m=\u001b[39;49m\u001b[38;5;28;43mself\u001b[39;49m\u001b[38;5;241;43m.\u001b[39;49m\u001b[43moptions\u001b[49m\u001b[38;5;241;43m.\u001b[39;49m\u001b[43mget\u001b[49m\u001b[43m(\u001b[49m\u001b[38;5;124;43m\"\u001b[39;49m\u001b[38;5;124;43mmemory_map\u001b[39;49m\u001b[38;5;124;43m\"\u001b[39;49m\u001b[43m,\u001b[49m\u001b[43m \u001b[49m\u001b[38;5;28;43;01mFalse\u001b[39;49;00m\u001b[43m)\u001b[49m\u001b[43m,\u001b[49m\n\u001b[1;32m   1667\u001b[0m \u001b[43m    \u001b[49m\u001b[43mis_text\u001b[49m\u001b[38;5;241;43m=\u001b[39;49m\u001b[43mis_text\u001b[49m\u001b[43m,\u001b[49m\n\u001b[1;32m   1668\u001b[0m \u001b[43m    \u001b[49m\u001b[43merrors\u001b[49m\u001b[38;5;241;43m=\u001b[39;49m\u001b[38;5;28;43mself\u001b[39;49m\u001b[38;5;241;43m.\u001b[39;49m\u001b[43moptions\u001b[49m\u001b[38;5;241;43m.\u001b[39;49m\u001b[43mget\u001b[49m\u001b[43m(\u001b[49m\u001b[38;5;124;43m\"\u001b[39;49m\u001b[38;5;124;43mencoding_errors\u001b[39;49m\u001b[38;5;124;43m\"\u001b[39;49m\u001b[43m,\u001b[49m\u001b[43m \u001b[49m\u001b[38;5;124;43m\"\u001b[39;49m\u001b[38;5;124;43mstrict\u001b[39;49m\u001b[38;5;124;43m\"\u001b[39;49m\u001b[43m)\u001b[49m\u001b[43m,\u001b[49m\n\u001b[1;32m   1669\u001b[0m \u001b[43m    \u001b[49m\u001b[43mstorage_options\u001b[49m\u001b[38;5;241;43m=\u001b[39;49m\u001b[38;5;28;43mself\u001b[39;49m\u001b[38;5;241;43m.\u001b[39;49m\u001b[43moptions\u001b[49m\u001b[38;5;241;43m.\u001b[39;49m\u001b[43mget\u001b[49m\u001b[43m(\u001b[49m\u001b[38;5;124;43m\"\u001b[39;49m\u001b[38;5;124;43mstorage_options\u001b[39;49m\u001b[38;5;124;43m\"\u001b[39;49m\u001b[43m,\u001b[49m\u001b[43m \u001b[49m\u001b[38;5;28;43;01mNone\u001b[39;49;00m\u001b[43m)\u001b[49m\u001b[43m,\u001b[49m\n\u001b[1;32m   1670\u001b[0m \u001b[43m\u001b[49m\u001b[43m)\u001b[49m\n\u001b[1;32m   1671\u001b[0m \u001b[38;5;28;01massert\u001b[39;00m \u001b[38;5;28mself\u001b[39m\u001b[38;5;241m.\u001b[39mhandles \u001b[38;5;129;01mis\u001b[39;00m \u001b[38;5;129;01mnot\u001b[39;00m \u001b[38;5;28;01mNone\u001b[39;00m\n\u001b[1;32m   1672\u001b[0m f \u001b[38;5;241m=\u001b[39m \u001b[38;5;28mself\u001b[39m\u001b[38;5;241m.\u001b[39mhandles\u001b[38;5;241m.\u001b[39mhandle\n",
      "File \u001b[0;32m~/.pyenv/versions/3.11.3/envs/movies/lib/python3.11/site-packages/pandas/io/common.py:716\u001b[0m, in \u001b[0;36mget_handle\u001b[0;34m(path_or_buf, mode, encoding, compression, memory_map, is_text, errors, storage_options)\u001b[0m\n\u001b[1;32m    713\u001b[0m     codecs\u001b[38;5;241m.\u001b[39mlookup_error(errors)\n\u001b[1;32m    715\u001b[0m \u001b[38;5;66;03m# open URLs\u001b[39;00m\n\u001b[0;32m--> 716\u001b[0m ioargs \u001b[38;5;241m=\u001b[39m \u001b[43m_get_filepath_or_buffer\u001b[49m\u001b[43m(\u001b[49m\n\u001b[1;32m    717\u001b[0m \u001b[43m    \u001b[49m\u001b[43mpath_or_buf\u001b[49m\u001b[43m,\u001b[49m\n\u001b[1;32m    718\u001b[0m \u001b[43m    \u001b[49m\u001b[43mencoding\u001b[49m\u001b[38;5;241;43m=\u001b[39;49m\u001b[43mencoding\u001b[49m\u001b[43m,\u001b[49m\n\u001b[1;32m    719\u001b[0m \u001b[43m    \u001b[49m\u001b[43mcompression\u001b[49m\u001b[38;5;241;43m=\u001b[39;49m\u001b[43mcompression\u001b[49m\u001b[43m,\u001b[49m\n\u001b[1;32m    720\u001b[0m \u001b[43m    \u001b[49m\u001b[43mmode\u001b[49m\u001b[38;5;241;43m=\u001b[39;49m\u001b[43mmode\u001b[49m\u001b[43m,\u001b[49m\n\u001b[1;32m    721\u001b[0m \u001b[43m    \u001b[49m\u001b[43mstorage_options\u001b[49m\u001b[38;5;241;43m=\u001b[39;49m\u001b[43mstorage_options\u001b[49m\u001b[43m,\u001b[49m\n\u001b[1;32m    722\u001b[0m \u001b[43m\u001b[49m\u001b[43m)\u001b[49m\n\u001b[1;32m    724\u001b[0m handle \u001b[38;5;241m=\u001b[39m ioargs\u001b[38;5;241m.\u001b[39mfilepath_or_buffer\n\u001b[1;32m    725\u001b[0m handles: \u001b[38;5;28mlist\u001b[39m[BaseBuffer]\n",
      "File \u001b[0;32m~/.pyenv/versions/3.11.3/envs/movies/lib/python3.11/site-packages/pandas/io/common.py:368\u001b[0m, in \u001b[0;36m_get_filepath_or_buffer\u001b[0;34m(filepath_or_buffer, encoding, compression, mode, storage_options)\u001b[0m\n\u001b[1;32m    366\u001b[0m \u001b[38;5;66;03m# assuming storage_options is to be interpreted as headers\u001b[39;00m\n\u001b[1;32m    367\u001b[0m req_info \u001b[38;5;241m=\u001b[39m urllib\u001b[38;5;241m.\u001b[39mrequest\u001b[38;5;241m.\u001b[39mRequest(filepath_or_buffer, headers\u001b[38;5;241m=\u001b[39mstorage_options)\n\u001b[0;32m--> 368\u001b[0m \u001b[38;5;28;01mwith\u001b[39;00m \u001b[43murlopen\u001b[49m\u001b[43m(\u001b[49m\u001b[43mreq_info\u001b[49m\u001b[43m)\u001b[49m \u001b[38;5;28;01mas\u001b[39;00m req:\n\u001b[1;32m    369\u001b[0m     content_encoding \u001b[38;5;241m=\u001b[39m req\u001b[38;5;241m.\u001b[39mheaders\u001b[38;5;241m.\u001b[39mget(\u001b[38;5;124m\"\u001b[39m\u001b[38;5;124mContent-Encoding\u001b[39m\u001b[38;5;124m\"\u001b[39m, \u001b[38;5;28;01mNone\u001b[39;00m)\n\u001b[1;32m    370\u001b[0m     \u001b[38;5;28;01mif\u001b[39;00m content_encoding \u001b[38;5;241m==\u001b[39m \u001b[38;5;124m\"\u001b[39m\u001b[38;5;124mgzip\u001b[39m\u001b[38;5;124m\"\u001b[39m:\n\u001b[1;32m    371\u001b[0m         \u001b[38;5;66;03m# Override compression based on Content-Encoding header\u001b[39;00m\n",
      "File \u001b[0;32m~/.pyenv/versions/3.11.3/envs/movies/lib/python3.11/site-packages/pandas/io/common.py:270\u001b[0m, in \u001b[0;36murlopen\u001b[0;34m(*args, **kwargs)\u001b[0m\n\u001b[1;32m    264\u001b[0m \u001b[38;5;250m\u001b[39m\u001b[38;5;124;03m\"\"\"\u001b[39;00m\n\u001b[1;32m    265\u001b[0m \u001b[38;5;124;03mLazy-import wrapper for stdlib urlopen, as that imports a big chunk of\u001b[39;00m\n\u001b[1;32m    266\u001b[0m \u001b[38;5;124;03mthe stdlib.\u001b[39;00m\n\u001b[1;32m    267\u001b[0m \u001b[38;5;124;03m\"\"\"\u001b[39;00m\n\u001b[1;32m    268\u001b[0m \u001b[38;5;28;01mimport\u001b[39;00m \u001b[38;5;21;01murllib\u001b[39;00m\u001b[38;5;21;01m.\u001b[39;00m\u001b[38;5;21;01mrequest\u001b[39;00m\n\u001b[0;32m--> 270\u001b[0m \u001b[38;5;28;01mreturn\u001b[39;00m \u001b[43murllib\u001b[49m\u001b[38;5;241;43m.\u001b[39;49m\u001b[43mrequest\u001b[49m\u001b[38;5;241;43m.\u001b[39;49m\u001b[43murlopen\u001b[49m\u001b[43m(\u001b[49m\u001b[38;5;241;43m*\u001b[39;49m\u001b[43margs\u001b[49m\u001b[43m,\u001b[49m\u001b[43m \u001b[49m\u001b[38;5;241;43m*\u001b[39;49m\u001b[38;5;241;43m*\u001b[39;49m\u001b[43mkwargs\u001b[49m\u001b[43m)\u001b[49m\n",
      "File \u001b[0;32m~/.pyenv/versions/3.11.3/lib/python3.11/urllib/request.py:216\u001b[0m, in \u001b[0;36murlopen\u001b[0;34m(url, data, timeout, cafile, capath, cadefault, context)\u001b[0m\n\u001b[1;32m    214\u001b[0m \u001b[38;5;28;01melse\u001b[39;00m:\n\u001b[1;32m    215\u001b[0m     opener \u001b[38;5;241m=\u001b[39m _opener\n\u001b[0;32m--> 216\u001b[0m \u001b[38;5;28;01mreturn\u001b[39;00m \u001b[43mopener\u001b[49m\u001b[38;5;241;43m.\u001b[39;49m\u001b[43mopen\u001b[49m\u001b[43m(\u001b[49m\u001b[43murl\u001b[49m\u001b[43m,\u001b[49m\u001b[43m \u001b[49m\u001b[43mdata\u001b[49m\u001b[43m,\u001b[49m\u001b[43m \u001b[49m\u001b[43mtimeout\u001b[49m\u001b[43m)\u001b[49m\n",
      "File \u001b[0;32m~/.pyenv/versions/3.11.3/lib/python3.11/urllib/request.py:525\u001b[0m, in \u001b[0;36mOpenerDirector.open\u001b[0;34m(self, fullurl, data, timeout)\u001b[0m\n\u001b[1;32m    523\u001b[0m \u001b[38;5;28;01mfor\u001b[39;00m processor \u001b[38;5;129;01min\u001b[39;00m \u001b[38;5;28mself\u001b[39m\u001b[38;5;241m.\u001b[39mprocess_response\u001b[38;5;241m.\u001b[39mget(protocol, []):\n\u001b[1;32m    524\u001b[0m     meth \u001b[38;5;241m=\u001b[39m \u001b[38;5;28mgetattr\u001b[39m(processor, meth_name)\n\u001b[0;32m--> 525\u001b[0m     response \u001b[38;5;241m=\u001b[39m \u001b[43mmeth\u001b[49m\u001b[43m(\u001b[49m\u001b[43mreq\u001b[49m\u001b[43m,\u001b[49m\u001b[43m \u001b[49m\u001b[43mresponse\u001b[49m\u001b[43m)\u001b[49m\n\u001b[1;32m    527\u001b[0m \u001b[38;5;28;01mreturn\u001b[39;00m response\n",
      "File \u001b[0;32m~/.pyenv/versions/3.11.3/lib/python3.11/urllib/request.py:634\u001b[0m, in \u001b[0;36mHTTPErrorProcessor.http_response\u001b[0;34m(self, request, response)\u001b[0m\n\u001b[1;32m    631\u001b[0m \u001b[38;5;66;03m# According to RFC 2616, \"2xx\" code indicates that the client's\u001b[39;00m\n\u001b[1;32m    632\u001b[0m \u001b[38;5;66;03m# request was successfully received, understood, and accepted.\u001b[39;00m\n\u001b[1;32m    633\u001b[0m \u001b[38;5;28;01mif\u001b[39;00m \u001b[38;5;129;01mnot\u001b[39;00m (\u001b[38;5;241m200\u001b[39m \u001b[38;5;241m<\u001b[39m\u001b[38;5;241m=\u001b[39m code \u001b[38;5;241m<\u001b[39m \u001b[38;5;241m300\u001b[39m):\n\u001b[0;32m--> 634\u001b[0m     response \u001b[38;5;241m=\u001b[39m \u001b[38;5;28;43mself\u001b[39;49m\u001b[38;5;241;43m.\u001b[39;49m\u001b[43mparent\u001b[49m\u001b[38;5;241;43m.\u001b[39;49m\u001b[43merror\u001b[49m\u001b[43m(\u001b[49m\n\u001b[1;32m    635\u001b[0m \u001b[43m        \u001b[49m\u001b[38;5;124;43m'\u001b[39;49m\u001b[38;5;124;43mhttp\u001b[39;49m\u001b[38;5;124;43m'\u001b[39;49m\u001b[43m,\u001b[49m\u001b[43m \u001b[49m\u001b[43mrequest\u001b[49m\u001b[43m,\u001b[49m\u001b[43m \u001b[49m\u001b[43mresponse\u001b[49m\u001b[43m,\u001b[49m\u001b[43m \u001b[49m\u001b[43mcode\u001b[49m\u001b[43m,\u001b[49m\u001b[43m \u001b[49m\u001b[43mmsg\u001b[49m\u001b[43m,\u001b[49m\u001b[43m \u001b[49m\u001b[43mhdrs\u001b[49m\u001b[43m)\u001b[49m\n\u001b[1;32m    637\u001b[0m \u001b[38;5;28;01mreturn\u001b[39;00m response\n",
      "File \u001b[0;32m~/.pyenv/versions/3.11.3/lib/python3.11/urllib/request.py:563\u001b[0m, in \u001b[0;36mOpenerDirector.error\u001b[0;34m(self, proto, *args)\u001b[0m\n\u001b[1;32m    561\u001b[0m \u001b[38;5;28;01mif\u001b[39;00m http_err:\n\u001b[1;32m    562\u001b[0m     args \u001b[38;5;241m=\u001b[39m (\u001b[38;5;28mdict\u001b[39m, \u001b[38;5;124m'\u001b[39m\u001b[38;5;124mdefault\u001b[39m\u001b[38;5;124m'\u001b[39m, \u001b[38;5;124m'\u001b[39m\u001b[38;5;124mhttp_error_default\u001b[39m\u001b[38;5;124m'\u001b[39m) \u001b[38;5;241m+\u001b[39m orig_args\n\u001b[0;32m--> 563\u001b[0m     \u001b[38;5;28;01mreturn\u001b[39;00m \u001b[38;5;28;43mself\u001b[39;49m\u001b[38;5;241;43m.\u001b[39;49m\u001b[43m_call_chain\u001b[49m\u001b[43m(\u001b[49m\u001b[38;5;241;43m*\u001b[39;49m\u001b[43margs\u001b[49m\u001b[43m)\u001b[49m\n",
      "File \u001b[0;32m~/.pyenv/versions/3.11.3/lib/python3.11/urllib/request.py:496\u001b[0m, in \u001b[0;36mOpenerDirector._call_chain\u001b[0;34m(self, chain, kind, meth_name, *args)\u001b[0m\n\u001b[1;32m    494\u001b[0m \u001b[38;5;28;01mfor\u001b[39;00m handler \u001b[38;5;129;01min\u001b[39;00m handlers:\n\u001b[1;32m    495\u001b[0m     func \u001b[38;5;241m=\u001b[39m \u001b[38;5;28mgetattr\u001b[39m(handler, meth_name)\n\u001b[0;32m--> 496\u001b[0m     result \u001b[38;5;241m=\u001b[39m \u001b[43mfunc\u001b[49m\u001b[43m(\u001b[49m\u001b[38;5;241;43m*\u001b[39;49m\u001b[43margs\u001b[49m\u001b[43m)\u001b[49m\n\u001b[1;32m    497\u001b[0m     \u001b[38;5;28;01mif\u001b[39;00m result \u001b[38;5;129;01mis\u001b[39;00m \u001b[38;5;129;01mnot\u001b[39;00m \u001b[38;5;28;01mNone\u001b[39;00m:\n\u001b[1;32m    498\u001b[0m         \u001b[38;5;28;01mreturn\u001b[39;00m result\n",
      "File \u001b[0;32m~/.pyenv/versions/3.11.3/lib/python3.11/urllib/request.py:643\u001b[0m, in \u001b[0;36mHTTPDefaultErrorHandler.http_error_default\u001b[0;34m(self, req, fp, code, msg, hdrs)\u001b[0m\n\u001b[1;32m    642\u001b[0m \u001b[38;5;28;01mdef\u001b[39;00m \u001b[38;5;21mhttp_error_default\u001b[39m(\u001b[38;5;28mself\u001b[39m, req, fp, code, msg, hdrs):\n\u001b[0;32m--> 643\u001b[0m     \u001b[38;5;28;01mraise\u001b[39;00m HTTPError(req\u001b[38;5;241m.\u001b[39mfull_url, code, msg, hdrs, fp)\n",
      "\u001b[0;31mHTTPError\u001b[0m: HTTP Error 400: Bad Request"
     ]
    }
   ],
   "source": [
    "pd.read_csv(\"https://storage.googleapis.com/kaggle-data-sets/3405/6663/compressed/movies_metadata.csv.zip?X-Goog-Algorithm=GOOG4-RSA-SHA256&X-Goog-Credential=gcp-kaggle-com%40kaggle-161607.iam.gserviceaccount.com%2F20230602%2Fauto%2Fstorage%2Fgoog4_request&X-Goog-Date=20230602T222944Z&X-Goog-Expires=259200&X-Goo\")"
   ]
  },
  {
   "cell_type": "code",
   "execution_count": null,
   "id": "d115c90e-a8e6-4bd1-bcf3-160ea482937c",
   "metadata": {},
   "outputs": [],
   "source": []
  }
 ],
 "metadata": {
  "kernelspec": {
   "display_name": "Python 3 (ipykernel)",
   "language": "python",
   "name": "python3"
  },
  "language_info": {
   "codemirror_mode": {
    "name": "ipython",
    "version": 3
   },
   "file_extension": ".py",
   "mimetype": "text/x-python",
   "name": "python",
   "nbconvert_exporter": "python",
   "pygments_lexer": "ipython3",
   "version": "3.11.3"
  }
 },
 "nbformat": 4,
 "nbformat_minor": 5
}
