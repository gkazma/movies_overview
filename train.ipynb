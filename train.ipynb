{
 "cells": [
  {
   "cell_type": "code",
   "execution_count": 7,
   "metadata": {},
   "outputs": [
    {
     "name": "stdout",
     "output_type": "stream",
     "text": [
      "There are 45466 rows in the dataset.\n",
      "954\n",
      "There are 205 duplicate titles.\n",
      "There are 44307 rows in the deduplicated dataset.\n",
      "848\n",
      "1910\n",
      "Number of rows in training set: 33022\n",
      "Number of rows in validation set: 4128\n",
      "Number of rows in test set: 4128\n",
      "Vocabulary:\n",
      "\n",
      "['Drama', 'Comedy', 'Thriller', 'Romance', 'Action', 'Horror', 'Crime', 'Documentary', 'Adventure', 'Science Fiction', 'Family', 'Mystery', 'Fantasy', 'Animation', 'Music', 'Foreign', 'History', 'War', 'Western', 'TV Movie']\n",
      "Original label: ['Comedy', 'Drama', 'Mystery']\n",
      "Label-binarized representation: [[1. 1. 0. 0. 0. 0. 0. 0. 0. 0. 0. 1. 0. 0. 0. 0. 0. 0. 0. 0.]]\n",
      "Decoded binarized label representation: ['Drama' 'Comedy' 'Mystery']\n",
      "count    33022.000000\n",
      "mean        55.436981\n",
      "std         34.647556\n",
      "min          4.000000\n",
      "25%         28.000000\n",
      "50%         48.000000\n",
      "75%         73.000000\n",
      "max        187.000000\n",
      "Name: overview, dtype: float64\n"
     ]
    }
   ],
   "source": [
    "from tensorflow.keras import layers\n",
    "from tensorflow import keras\n",
    "import tensorflow as tf\n",
    "\n",
    "from keras.callbacks import EarlyStopping\n",
    "\n",
    "from sklearn.model_selection import train_test_split\n",
    "from ast import literal_eval\n",
    "\n",
    "import matplotlib.pyplot as plt\n",
    "import pandas as pd\n",
    "import numpy as np\n",
    "\n",
    "# There are multiple genres per movie\n",
    "df = pd.read_csv(\"dataset/movies_metadata.csv\",usecols=['genres', 'overview'])\n",
    "# Convert genres string type to list\n",
    "df['genres'] = df['genres'].apply(lambda x: literal_eval(x)).apply(lambda x: sorted([d['name'] for d in x]))\n",
    "df.head()\n",
    "\n",
    "print(f\"There are {len(df)} rows in the dataset.\")\n",
    "\n",
    "# Some movies have no overview, remove them\n",
    "print(df['overview'].isnull().sum())\n",
    "df = df.dropna(subset = ['overview']).reset_index(drop=True)\n",
    "\n",
    "total_duplicate_titles = sum(df[\"overview\"].duplicated())\n",
    "print(f\"There are {total_duplicate_titles} duplicate titles.\")\n",
    "\n",
    "df = df[~df[\"overview\"].duplicated()]\n",
    "print(f\"There are {len(df)} rows in the deduplicated dataset.\")\n",
    "\n",
    "df['genres_str'] = df['genres'].apply(lambda x: \" \".join(str(s) for s in x))\n",
    "\n",
    "# There are some genres combinations with occurrence as low as 1.\n",
    "print(sum(df[\"genres_str\"].value_counts() == 1))\n",
    "\n",
    "# How many unique terms?\n",
    "print(df[\"genres_str\"].nunique())\n",
    "\n",
    "# Remove movies with very short overviews\n",
    "df_filtered = df[df[\"overview\"].apply(lambda x: len(x.split(\" \"))) > 3]\n",
    "\n",
    "# Filtering the rare genres combination\n",
    "df_filtered = df_filtered.groupby(\"genres_str\").filter(lambda x: len(x) > 1)[['overview', 'genres']]\n",
    "df_filtered.shape\n",
    "\n",
    "# Remove movies with no genres\n",
    "df_filtered = df_filtered[df_filtered['genres'].apply(lambda x: len(x)) > 0]\n",
    "\n",
    "genres = []\n",
    "for x in df_filtered['genres']:\n",
    "    if len(x) > 0:\n",
    "        genres.extend(x)\n",
    "pd.Series(genres).value_counts()\n",
    "\n",
    "test_split = 0.2\n",
    "\n",
    "# Initial train and test split.\n",
    "train_df, test_df = train_test_split(\n",
    "    df_filtered,\n",
    "    test_size=test_split,\n",
    "    stratify=df_filtered[\"genres\"].values,\n",
    ")\n",
    "\n",
    "# Splitting the test set further into validation\n",
    "# and new test sets.\n",
    "val_df = test_df.sample(frac=0.5)\n",
    "test_df.drop(val_df.index, inplace=True)\n",
    "\n",
    "print(f\"Number of rows in training set: {len(train_df)}\")\n",
    "print(f\"Number of rows in validation set: {len(val_df)}\")\n",
    "print(f\"Number of rows in test set: {len(test_df)}\")\n",
    "\n",
    "genres = tf.ragged.constant(train_df[\"genres\"].values)\n",
    "lookup = tf.keras.layers.StringLookup(output_mode=\"multi_hot\", num_oov_indices=0)\n",
    "lookup.adapt(genres)\n",
    "vocab = lookup.get_vocabulary()\n",
    "\n",
    "\n",
    "def invert_multi_hot(encoded_labels):\n",
    "    \"\"\"Reverse a single multi-hot encoded label to a tuple of vocab terms.\"\"\"\n",
    "    hot_indices = np.argwhere(encoded_labels == 1.0)[..., 0]\n",
    "    return np.take(vocab, hot_indices)\n",
    "\n",
    "\n",
    "print(\"Vocabulary:\\n\")\n",
    "print(vocab)\n",
    "\n",
    "sample_label = train_df[\"genres\"].iloc[0]\n",
    "print(f\"Original label: {sample_label}\")\n",
    "\n",
    "label_binarized = lookup([sample_label])\n",
    "print(f\"Label-binarized representation: {label_binarized}\")\n",
    "\n",
    "label_decoded = invert_multi_hot(label_binarized[0])\n",
    "print(f\"Decoded binarized label representation: {label_decoded}\")\n",
    "\n",
    "print(train_df[\"overview\"].apply(lambda x: len(x.split(\" \"))).describe())"
   ]
  },
  {
   "cell_type": "code",
   "execution_count": 52,
   "metadata": {},
   "outputs": [
    {
     "name": "stdout",
     "output_type": "stream",
     "text": [
      "130373\n"
     ]
    }
   ],
   "source": [
    "max_seqlen = 150\n",
    "batch_size = 128\n",
    "padding_token = \"<pad>\"\n",
    "auto = tf.data.AUTOTUNE\n",
    "\n",
    "\n",
    "def make_dataset(dataframe, is_train=True):\n",
    "    labels = tf.ragged.constant(dataframe[\"genres\"].values)\n",
    "    label_binarized = lookup(labels).numpy()\n",
    "    dataset = tf.data.Dataset.from_tensor_slices(\n",
    "        (dataframe[\"overview\"].values, label_binarized)\n",
    "    )\n",
    "    dataset = dataset.shuffle(batch_size * 10) if is_train else dataset\n",
    "    return dataset.batch(batch_size)\n",
    "\n",
    "\n",
    "train_dataset = make_dataset(train_df, is_train=True)\n",
    "validation_dataset = make_dataset(val_df, is_train=False)\n",
    "test_dataset = make_dataset(test_df, is_train=False)\n",
    "\n",
    "vocabulary = set()\n",
    "train_df[\"overview\"].str.lower().str.replace('[^\\w\\s]','').str.split().apply(vocabulary.update)\n",
    "vocabulary_size = len(vocabulary)\n",
    "print(vocabulary_size)\n",
    "\n",
    "text_vectorizer = layers.TextVectorization(max_tokens=vocabulary_size, ngrams=None, output_mode=\"tf_idf\")\n",
    "\n",
    "# text_vectorizer = layers.TextVectorization(max_tokens=vocabulary_size, ngrams=None, output_mode=\"count\")\n",
    "\n",
    "# text_vectorizer = layers.TextVectorization(max_tokens=vocabulary_size, output_sequence_length=max_seqlen, output_mode=\"int\")\n",
    "\n",
    "# `TextVectorization` layer needs to be adapted as per the vocabulary from our\n",
    "# training set.\n",
    "with tf.device(\"/CPU:0\"):\n",
    "    text_vectorizer.adapt(train_dataset.map(lambda text, label: text))\n",
    "\n",
    "train_dataset = train_dataset.map(\n",
    "    lambda text, label: (text, label), num_parallel_calls=auto\n",
    ").prefetch(auto)\n",
    "validation_dataset = validation_dataset.map(\n",
    "    lambda text, label: (text, label), num_parallel_calls=auto\n",
    ").prefetch(auto)\n",
    "test_dataset = test_dataset.map(\n",
    "    lambda text, label: (text, label), num_parallel_calls=auto\n",
    ").prefetch(auto)\n",
    "\n",
    "def make_model():\n",
    "    model = keras.Sequential(\n",
    "        [\n",
    "            tf.keras.Input(shape=(1,), dtype=tf.string, name='text'),\n",
    "            text_vectorizer,\n",
    "            layers.Dense(512, activation=\"relu\"),\n",
    "            layers.Dense(256, activation=\"relu\"),\n",
    "            layers.Dense(lookup.vocabulary_size(), activation=\"sigmoid\"),\n",
    "        ]\n",
    "    )\n",
    "    return model"
   ]
  },
  {
   "cell_type": "code",
   "execution_count": 55,
   "metadata": {},
   "outputs": [
    {
     "name": "stdout",
     "output_type": "stream",
     "text": [
      "Epoch 1/2\n",
      "258/258 [==============================] - 22s 82ms/step - loss: 0.2323 - binary_accuracy: 0.9148 - categorical_accuracy: 0.5170 - accuracy: 0.0000e+00 - auc_4: 0.8741 - f1_score: 0.2692 - precision_4: 0.6588 - recall_4: 0.3789 - val_loss: 0.1980 - val_binary_accuracy: 0.9231 - val_categorical_accuracy: 0.5317 - val_accuracy: 0.0000e+00 - val_auc_4: 0.9125 - val_f1_score: 0.3162 - val_precision_4: 0.7160 - val_recall_4: 0.4240\n",
      "Epoch 2/2\n",
      "258/258 [==============================] - 21s 81ms/step - loss: 0.0728 - binary_accuracy: 0.9716 - categorical_accuracy: 0.5928 - accuracy: 9.7511e-04 - auc_4: 0.9904 - f1_score: 0.5444 - precision_4: 0.9048 - recall_4: 0.8133 - val_loss: 0.2667 - val_binary_accuracy: 0.9157 - val_categorical_accuracy: 0.4668 - val_accuracy: 2.5436e-04 - val_auc_4: 0.8837 - val_f1_score: 0.3333 - val_precision_4: 0.6189 - val_recall_4: 0.4797\n"
     ]
    },
    {
     "data": {
      "image/png": "[encoded data removed]",
      "text/plain": [
       "<Figure size 640x480 with 1 Axes>"
      ]
     },
     "metadata": {},
     "output_type": "display_data"
    },
    {
     "data": {
      "image/png": "[encoded data removed]",
      "text/plain": [
       "<Figure size 640x480 with 1 Axes>"
      ]
     },
     "metadata": {},
     "output_type": "display_data"
    }
   ],
   "source": [
    "epochs = 2\n",
    "\n",
    "# model = make_model()\n",
    "\n",
    "model = tf.keras.models.Sequential()\n",
    "model.add(tf.keras.Input(shape=(1,), dtype=tf.string))\n",
    "model.add(text_vectorizer)\n",
    "model.add(layers.Dense(512, activation=\"relu\"))\n",
    "model.add(layers.Dense(512, activation=\"relu\"))\n",
    "model.add(layers.Dense(lookup.vocabulary_size(), activation=\"sigmoid\"))\n",
    "\n",
    "model.compile(\n",
    "    loss=\"binary_crossentropy\", \n",
    "    optimizer=\"adam\",\n",
    "    # metrics=[tf.keras.metrics.BinaryAccuracy()],\n",
    "    metrics=[tf.keras.metrics.BinaryAccuracy(), \n",
    "             tf.keras.metrics.CategoricalAccuracy(), \n",
    "             tf.keras.metrics.Accuracy(), \n",
    "             tf.keras.metrics.AUC(), \n",
    "             tf.keras.metrics.F1Score(average='macro'), \n",
    "             tf.keras.metrics.Precision(), \n",
    "             tf.keras.metrics.Recall()]\n",
    ")\n",
    "\n",
    "early_stopping_monitor = EarlyStopping(\n",
    "    monitor='val_loss',\n",
    "    min_delta=0,\n",
    "    patience=0,\n",
    "    verbose=0,\n",
    "    mode='auto',\n",
    "    baseline=None,\n",
    "    restore_best_weights=True\n",
    ")\n",
    "\n",
    "history = model.fit(\n",
    "    train_dataset, validation_data=validation_dataset, epochs=epochs, callbacks=[early_stopping_monitor]\n",
    ")\n",
    "\n",
    "\n",
    "def plot_result(item):\n",
    "    plt.plot(history.history[item], label=item)\n",
    "    plt.plot(history.history[\"val_\" + item], label=\"val_\" + item)\n",
    "    plt.xlabel(\"Epochs\")\n",
    "    plt.ylabel(item)\n",
    "    plt.title(\"Train and Validation {} Over Epochs\".format(item), fontsize=14)\n",
    "    plt.legend()\n",
    "    plt.grid()\n",
    "    plt.show()\n",
    "\n",
    "\n",
    "plot_result(\"loss\")\n",
    "plot_result(\"binary_accuracy\")"
   ]
  },
  {
   "cell_type": "code",
   "execution_count": 84,
   "metadata": {},
   "outputs": [
    {
     "name": "stdout",
     "output_type": "stream",
     "text": [
      "4/4 [==============================] - 0s 14ms/step\n"
     ]
    }
   ],
   "source": [
    "# Create a model for inference.\n",
    "model_for_inference = keras.Sequential([model])\n",
    "\n",
    "# Create a small dataset just for demoing inference.\n",
    "inference_dataset = make_dataset(test_df.sample(100), is_train=False)\n",
    "text_batch, label_batch = next(iter(inference_dataset))\n",
    "predicted_probabilities = model_for_inference.predict(text_batch)"
   ]
  },
  {
   "cell_type": "code",
   "execution_count": 57,
   "metadata": {},
   "outputs": [
    {
     "data": {
      "text/plain": [
       "<tf.Tensor: shape=(100,), dtype=string, numpy=\n",
       "array([b\"Nikolai, a Russian hit-man escapes from his adversaries into the streets of Los Angeles. He is taken into the household of Lesley and her son Johnny. In exchange for refuge, Nikolai repairs the single mother's decaying house and symbolically mends fences between everyday people of Russia and the U.S. When enemies get too close to his new home, Nikolai makes his escape to Montana.\",\n",
       "       b'Neal Cassady is living the beat life during the 1940s, working at The Tire Yard and and philandering around town. However, he has visions of a happy life with kids and a white picket fence. When his girlfried, Joan, tries to kill herself he gets scared and runs away. But when Joan reappears will he take the chance at that happiness, or will he turn his back on it?',\n",
       "       b\"A secret organisation offers wealthy people a second chance at life. The customer picks out someone they want to be and the organisation surgically alters the customer to look like the intended person, stages the customer's death, gets rid of the intended person and the customer takes on a new life.\",\n",
       "       b'A nine-year-old boy\\xe2\\x80\\x99s preening obsession with straightening his hair elicits a tidal wave of homophobic panic in his hard-working mother, in this tender but clear-eyed coming-of-age tale.',\n",
       "       b'The fearless Colombian philosopher-politician-teacher Antanas Mockus and his followers struggle for peace in a country with the longest running internal conflict in the world.',\n",
       "       b'Eines Tages wird es den Tieren zu bunt: St\\xc3\\xa4ndig wird unter den Menschen Krieg gef\\xc3\\xbchrt. Als Alois, der L\\xc3\\xb6we, erf\\xc3\\xa4hrt, da\\xc3\\x9f soeben die 365. Friedenskonferenz gescheitert ist, beschlie\\xc3\\x9fen die Tiere, da\\xc3\\x9f es h\\xc3\\xb6chste Zeit sei, sich einzumischen: Sie berufen eine eigene, \"tierische\" Friedenskonferenz. Mit viel Mut und noch mehr Phantasie entwickeln sie einen Plan, damit unter den Menschen in aller Welt endlich Friden herrschen kann ...',\n",
       "       b'Computer programmer/beekeeper Jacob gets a \"television\" implanted in his brain by a race of telekinetic bees, which causes him to experience severe hallucinations. (Includes: Mesopotamian bees, souls living inside weapons, the land of the dead in the Moon, Cain, the Trinity site, the tower of Babel, and a planet TV transmitting the dead of the future inside the Garden of Eden Cave which are giant bees, a Supranormal Film Society trying to capture the dead on film in the 1920\\'s, the letter X, missiles turning into flying saucers, a beekeeper who is murdered by his own bees, and the cities of the dead)',\n",
       "       b\"The fashionable Hye-joo is focused on her career at a brokerage house. She's making a decent living, but her co-workers look down on her. Tae-hee is sick of living under the thumb of her domineering father. She spends her time doing volunteer work for a poet with cerebral palsy. Sullen Ji-young lives in poverty with her grandparents and struggles to find work. The girls, close friends in high school, find themselves drifting apart as their adult lives begin to take shape.\",\n",
       "       b'A family of three young sisters live out their days after a pandemic has consumed most of the known world. One day a stranger suddenly shows up and their world changes in ways they never could have imagined.',\n",
       "       b\"The filmmakers follow Oliver North's unsuccessful 1994 bid for a Virginia Senate seat, focusing on North's campaign strategist, Mark Goodin, and a Washington Post reporter. Mudslinging ensues.\",\n",
       "       b'In Montreal, the unemployed fashion designer Sophie Malaterre is shown a website, switch.com, where it is possible to switch houses with a stranger for vacation. Sophie seeks an apartment in Paris nearby the Eiffel Tower that belongs to B\\xc3\\xa9n\\xc3\\xa9dicte Serteaux and they change apartments. Sophie arrives in Paris on Saturday morning. The next morning, policemen break in the apartment and arrest Sophie while she is having a bath. Detective Damien Forgeat interrogates Sophie believing that she is B\\xc3\\xa9n\\xc3\\xa9dicte and she learns that a beheaded body was found in her room and all evidence of her life has been deleted.',\n",
       "       b\"Bayou La Teche, Louisiana sizzles as the Cajun town celebrates the wedding of Splendid and Dolan. The trouble comes on the wedding night when Splendid is determined to maintain her innocence. On the other side of town Splendids' cousin has her own problems. Her man has been sleeping with Thais, the town hooker. She heads to the Tiger Cafe with gun in hand to get back her man.\",\n",
       "       b\"When she receives word that her longtime platonic pal Michael O'Neal is getting married to debutante Kimberly Wallace, food critic Julianne Potter realizes her true feelings for Michael -- and sets out to sabotage the wedding.\",\n",
       "       b'At 2 Ela lost her ability of seeing and hearing because of a severe illness. And then she became a total disappointment of her family due to her untamed behaviors. But everything changed after an unorthodox teacher stepped into their lives to educate Ela while healing himself.',\n",
       "       b'Flamboyantly gay Austrian television reporter Bruno stirs up trouble with unsuspecting guests and large crowds through brutally frank interviews and painfully hilarious public displays of homosexuality.',\n",
       "       b\"On a hot summer afternoon in the sleepy town of Blackwater Louisiana, a meteor streaks across the sky and crashes through the roof of the local Natural History Museum. The meteor is actually a spaceship containing an alien life form which animates the museum's partially frozen Woolly Mammoth and begins a rampage. Local authorities and Government Investigators join forces with Frank Abernathy, the Museum Curator, and his father Simon, a B-Movie enthusiast, to bring down the giant mammoth in this alien-invasion flick!\",\n",
       "       b'The film tells a story of an agent betrayed by his partner when transporting new psychic weapon. Believed to be dead, he escapes and takes new identity so he can live in peace far away. But later he is forced to return to Moscow to confront a secret organization, led by his former partner, that attempts to use the dangerous weapon in order to take control over the country. Now he is a key figure in the battle between forces of darkness and light.',\n",
       "       b'Documentary about the National Film Registry, featuring clips of films that have been included in the registry, as well as interviews with members of the National Film Registry Board.',\n",
       "       b'A lazy, incompetent middle school teacher who hates her job and her students is forced to return to her job to make enough money for a boob job after her rich fianc\\xc3\\xa9 dumps her.',\n",
       "       b'An aging Tennessee farmer returns to his homestead and must confront a family betrayal, the reappearance of an old enemy, and the loss of his farm.',\n",
       "       b'After his wife dies, a blacksmith named Balian is thrust into royalty, political intrigue and bloody holy wars during the Crusades.',\n",
       "       b'Dennis Dimbleby Bagley is a brilliant young advertising executive who can\\xe2\\x80\\x99t come up with a slogan to sell a revolutionary new pimple cream. His obsessive worrying affects not only his relationship with his wife, his friends and his boss, but also his own body\\xe2\\x80\\x94when he grows a large stress-related boil on his shoulder. But when the boil grows eyes and a mouth and starts talking.',\n",
       "       b\"After being abandoned for eight straight years in boarding school, Rohan returns to the small industrial town of Jamshedpur and finds himself closeted with an authoritarian father and a younger half brother who he didn't even know existed. Forced to work in his father's steel factory and study engineering against his wishes, he strives to forge his own life out of his given circumstances and pursue his dream of being a writer.\",\n",
       "       b\"6th Grade gets a new substitute teacher. She wants to train the class for an international competition in Paris. But something isn't right. How is she able read kids' minds? Why is she so mean? And how does she manage to convince everyone's parents she is so great when the whole class knows she is really an alien?\",\n",
       "       b'A seemingly happy family gets rocked by the suicide of the 14-year-old daughter.',\n",
       "       b'Murphy is the sole survivor of his crew, that has been massacred by a German U-Boat in the closing days of World War II. He is rescued, and ends up at a forgotten mission station near the mouth of the Orinoco, and begins to plot his vengeance. He wishes to sink the U-Boat by means of any method imaginable to him, and sets about to make the courageous attempt, assisted by Louis, the local oil company Administrator.',\n",
       "       b'The Keaton Family goes on a Family Vacation.',\n",
       "       b\"Filmmaker Kevin Rafferty takes viewers to 1968 to witness a legendary college football game and meet the people involved, interweaving actual gridiron footage with the players' own reflections. The names may be familiar (Tommy Lee Jones and friends of Al Gore and George W. Bush are among the interviewees), but their views on the game's place in the turbulent history of the 1960s college scene add an unexpected dimension.\",\n",
       "       b'Gary Faulkner is an ex-con, unemployed handyman, and modern day Don Quixote who receives a vision from God telling him to capture Osama Bin Laden. Armed with only a single sword purchased from a home-shopping network, Gary travels to Pakistan to complete his mission. While on his quest, Gary encounters old friends back home in Colorado, the new friends he makes in Pakistan, the enemies he makes at the CIA - and even God and Osama themselves.',\n",
       "       b'Carmen and Alfredo live a happy, quiet life in the suburbs surrounded by friends and family. After Alfredo receives a promotion, the two move away to Mexico City where they immediately feel the social pressure of being overweight in a bustling metropolis full of beautiful people. Taking the initiative, Carmen convinces her husband to join her in losing weight, but their relationship is put to the test when Alfredo\\xe2\\x80\\x99s program yields far better results than Carmen\\xe2\\x80\\x99s. From award-winning director Marianna Chenillo comes a touching comedy about how true beauty comes from the inside and paradise is closer to home than you might think.',\n",
       "       b'A love triangle develops during the making of a musical in mainland China.',\n",
       "       b'A group of adventurers are gathered together to retrieve some mystical gems which are in the possession of a deadly cult.',\n",
       "       b\"After a young, middle class couple moves into a suburban 'starter' tract house, they become increasingly disturbed by a presence that may or may not be somehow demonic but is certainly most active in the middle of the night. Especially when they sleep. Or try to.\",\n",
       "       b'A well known Parisian inspector becomes involved in an investigation while on holiday.',\n",
       "       b'After a bombing raid destroys the family store and her husband, Reiko rebuilds and runs the shop out of love stopped short by destruction.',\n",
       "       b\"A troubled veteran gets a chance at redemption by protecting a girl from an assassin after she witnesses a murder. Holding a shotgun with a single shell, he engages in physical and psychological warfare in a desperate fight for the girl's life.\",\n",
       "       b\"Red Dot on the Ocean is a riveting film about a troubled youth who becomes a sailing legend, earning two Guinness Records. Matt Rutherford was an angry teen with learning disabilities; a petty criminal who lived on the streets. Sailing saved him from a life of crime, or worse. Matt became the first to sail alone, without stopping around both Americas. His beat up boat was as tiny as his budget, yet he raised $120,000 for disabled sailors while braving icebergs, the Arctic and Cape Horn. After 309 days at sea, he returned to a hero's welcome and 30 dollars in the bank. He founded a non-profit that does ocean research. Matt's story makes us feel we can do more than we imagined.\",\n",
       "       b'An investigative expose of the inner workings inside the commercial pet food industry, which has went largely unchallenged until now.',\n",
       "       b\"Master Gunnery Sergeant Thomas Beckett is the U.S. Marine Corps' most decorated sniper. His has taken out warlords, drug lords, assassins, and bitter foes. This time, he's going after a friend.\",\n",
       "       b'Eugene Stimpson is a superhero... At least he plays one at birthday parties. When his high school nemesis Todd gets a job playing a rival superhero, Eugene must struggle to keep his identity secret while competing with Todd for the affections of the same girl. Can he keep his identity concealed long enough to make his move and defeat Todd, or will the mounting lies be too much for him to handle?',\n",
       "       b'Ely and Lila are like sisters. They know each other since childhood,they share everything and dream of a better life.they live in the same suburb, 10mn from Paris. Today,Ely and Lila dont want to be 10mn away from their life anymore.from small troubles to big lies, they will do everything to penetrate a world which is not theirs, a world where everything is possible or so they think.....',\n",
       "       b'This video shows how the foreign policy interests of American political elites-working in combination with Israeli public relations stratgies-influence US news reporting about the Middle East conflict. Combining American and British TV news clips with observations of analysts, journalists and political activists, Peace, Propaganda &amp; the Promised Land provides a brief historical overview, a striking media comparison, and an examination of factors that have distorted U.S. media coverage and, in turn, American public opinion.',\n",
       "       b'Progeria is an extremely rare and fatal disease, exemplified by accelerated aging in the children who are afflicted by it. There is no treatment. There is no cure. Enter Doctors Leslie Gordon and Scott Berns. When their son, Sam, was diagnosed with progeria at age two, the prognosis was grim\\xe2\\x80\\x94the couple were simply told to enjoy the few years they had left with their only son\\xe2\\x80\\x94but they weren\\xe2\\x80\\x99t willing to give up that easily. They spearheaded a campaign to save Sam and the other children in the world who share this devastating illness. In a little more than a decade, their extraordinary advances have led not only to identifying the gene that causes progeria and testing the first experimental drug to treat it but also to the amazing discovery that it is linked to the aging process in all of us.',\n",
       "       b'A young female terrorist goes on a suicide assassination mission, but her resolve to complete it is put to the test.',\n",
       "       b'A \"sequel\" to Island of the Fishmen (L\\'isola degli uomini pesce) that opts for a kitchen sink approach blending Italian post-apocalyptic, fantasy and kids movie genres.',\n",
       "       b'An unlikely basketball team of unappreciated middle-aged Texas women, all former high school champs, challenge the current high school girls\\xe2\\x80\\x99 state champs to raise money for breast cancer prevention. Sparks fly as the women go to comic extremes to prove themselves on and off the court, become a national media sensation, and gain a new lease on life.',\n",
       "       b'In 1972, John Wojtowicz attempted to rob a Brooklyn bank to pay for his lover\\xe2\\x80\\x99s sex-change operation. The story was the basis for the film Dog Day Afternoon. The Dog captures John, who shares his story for the first time in his own unique, offensive, hilarious and heartbreaking way.',\n",
       "       b'Juliet heads to her grandfather\\xe2\\x80\\x99s ranch with her mother for Christmas, where she meets a horse named Rodeo and young cowboy who change her life.',\n",
       "       b\"Alper is in his mid 30s and a good chef at his own restaurant. He loves luxury and spends his life with one-night stands and paid love. One day, his life changes utterly as he walks into a second-hand shop where he first encounters Ada who is in her late 20s and has a shop where she designs costumes for kids. She leads a modest life and one day while looking for a book, her and Alper's paths cross\",\n",
       "       b'It\\'s the 22nd of December. Sixteen years have passed since the revolution, and in a small town Christmas is about to come. Piscoci, an old retired man is preparing for another Christmas alone. Manescu, the history teacher, tries to keep up with his debts. Jderescu, the owner of a local television post, seems not to be so interested in the upcoming holidays. For him, the time to face history has come. Along with Manescu and Piscoci, he is trying to answer for himself a question which for 16 years has not had an answer: \"Was it or wasn\\'t it a revolution in their town?\"',\n",
       "       b'A college professor wakes up to find his wife has not returned home, then struggles to understand her disappearance.',\n",
       "       b'\"A family is kidnapped by a couple who have guns. Wandering lost, they get together in a place where there are zombies in samurai armor. Encountering zombies and police, reunited family struggle and get to confront a tragic secret. A fun action-horror on the low budget B-movie.\"',\n",
       "       b'Two years have passed since the final battle with Sephiroth. Though Midgar, city of mako, city of prosperity, has been reduced to ruins, its people slowly but steadily walk the road to reconstruction. However, a mysterious illness called Geostigma torments them. With no cure in sight, it brings death to the afflicted, one after another, robbing the people of their fledgling hope.',\n",
       "       b'Documentary look at the effects of globalization on Jamaican industry and agriculture.',\n",
       "       b\"Tom Leezak and Sarah McNerney fall in love and plan to get married, despite opposition from Sarah's uptight, rich family. When they do get married, and get a chance to prove Sarah's family wrong, they go on a European honeymoon and run into disaster after disaster. They have to decide whether the honeymoon from hell and a few pre-marital mistakes are worth throwing away their love and marriage.\",\n",
       "       b\"A man has had a werewolf curse cast upon him. If he doesn't get rid of it, he turns into a killer werewolf when the moon is full.\",\n",
       "       b'Kind and lazy Jenya comes to Moscow from small village in Belarus for earnings. Criminal incident unexpectedly separates Jenya from companions and leaves him alone without money and documents. He has no friends or relatives in this big and hostile city and he is about to end as a homeless bum.',\n",
       "       b'As influential Italian artist Caravaggio dies in exile in 1610, he recalls his short life, from his childhood to his initial artistic failures to his later triumphs as he catches the eye of a sympathetic cardinal to his destructive relationship with a dashing gambler.',\n",
       "       b'A mourning son makes a deal to reanimate his one year dead mother, however things turn into an unexpected direction.',\n",
       "       b'A young widow Amy Martin with three young boys is investigated by the Navy after one of her children inadvertently sends out a distress signal in Morse code by the blinds on his upstairs bedroom window. Commander Weedon and crew observe the signal from their ship and investigates. He falls for the young mother and proposes marriage. However, she is reluctant to have her family live out of a suitcase and initially declines. Gramps tries to bring her on board to sail the sea of love with the commander.',\n",
       "       b'A journalist and his girlfriend get pulled in while they investigate a cult whose leader claims to be from the future.',\n",
       "       b'Die Feuerzangenbowle from Director Helmut Weiss is based on the novel by the same name from Heinrich Spoerl and Hans Reimann that has turned into a cult German film. The film tells the story of a writer Johannes Pfeiffer who goes undercover as a student in a high school after his friends told him that he missed out on a great life experience since he was home schooled.',\n",
       "       b'Living legend, Nick Thune, takes the stage in Portland, Oregon and explains his stunning transformation into a good guy.',\n",
       "       b\"High school hottie Kellie Guthrie would never dream of giving nerdy classmate Virgil Heitmeyer a second look -- but after he takes the fall for Kellie when she's caught cheating, she's ready to reward him with an intimate thank-you.\",\n",
       "       b'In an underground city in a dystopian future, the protagonist, whose name is \"THX 1138 4EB\", is shown running through passageways and enclosed spaces. It is soon discovered that THX is escaping his community. The government uses computers and cameras to track down THX and attempt to stop him; however, they fail. He escapes by breaking through a door and runs off into the sunset. The government sends their condolences to YYO 7117, THX\\'s mate, claiming that THX has destroyed himself.  Electronic Labyrinth: THX-1138 4EB is a 1967 science fiction short film written and directed by George Lucas[1] while he attended the University of Southern California\\'s film school.',\n",
       "       b'Jerry and his two pals, Russ and Syd, are just looking for some easy money to help them break out of their nowhere lives in their nowhere town. Despite a bungled jewelry store heist which exposes their incompetence as criminals, a fateful event (and an old black-and-white film) convinces them that they can pull off an armored-truck robbery. While they are busy plotting their caper, their dysfunctional families spin out of control, all around them.',\n",
       "       b\"Karen, Sarah, and Emma Tunney are all moving to a small town in Pennsylvania where, unknown to them, in 1913, a horrid mine accident trapped dozens of children alive, underground. But there's a problem. They're still alive.\",\n",
       "       b'The story takes place in the racecourses around Paris. A so-called major sells his tips to naive characters.',\n",
       "       b\"When Keller Dover's daughter and her friend go missing, he takes matters into his own hands as the police pursue multiple leads and the pressure mounts. But just how far will this desperate father go to protect his family?\",\n",
       "       b\"Based on the life and career of legendary entertainer, Bobby Darin, the biopic moves back and forth between his childhood and adulthood, to tell the tale of his remarkable life. Kevin Spacey did his own singing for Beyond the Sea, recreating Bobby Darin's vocal style with uncanny accuracy.\",\n",
       "       b\"Henry (Streisand) is a woman who would do anything for her husband Pete-- including borrow money so he has a chance of making his dreams come true. But now there's the loan sharks to deal with...\",\n",
       "       b'A young man, unaccustomed to children, must accompany a young girl on a train trip.',\n",
       "       b'We Were Once a Fairytale is a 2009 short film directed by Spike Jonze. It stars hip hop musician Kanye West.',\n",
       "       b\"In the middle of the night, someone brings Ivan's body home to his wife and his sad-faced, jug-eared son. Through flashbacks, the film discloses the relationships among Ivan and his brother Alex, a cop with a cleanliness fetish; siblings Juliette and Jimmy, Ivan's partners in a seedy nightclub; the love triangle of Alex, Juliette, and Marie, a professor of philosophy; and of Alex and his nephew, Ivan's dour, stoic son. Ivan's death changes every relationship.\",\n",
       "       b'In Kyushu, southwest Japan, one hot summer morning, a municipal bus is hijacked. In the carnage only three people survive: the driver, a school girl, and her older brother.',\n",
       "       b\"Set in the India of the British Raj, the evil and untrustworthy Prince Guhl (Raymond Massey) plans to wipe out the British troops as they enjoy the hospitality of Guhl's spacious palace. It's up to the loyal young Prince Azim (Sabu) to warn the troops of Guhl's treachery by tapping out a message on his drum.\",\n",
       "       b\"On a typical fall evening in 1983, a young man was videotaping his niece's 5th birthday party. As the night's strange occurrences took place, he kept his video camera running, recording the entire event.\",\n",
       "       b\"Under the watchful eye of his mentor, Captain Mike Kennedy, probationary firefighter Jack Morrison matures into a seasoned veteran at a Baltimore fire station. However, Jack has reached a crossroads  as the sacrifices he's made have put him in harm's way innumerable times and significantly impacted his relationship with his wife and kids.\",\n",
       "       b'G\\xc3\\xb6tz, the owner of an record shop in Berlin, Kreuzberg, is in love with Aylin.But Aylin is espoused to an turkey doctor named Tarkan. G\\xc3\\xb6tz and Aylin are fallin in love and they want to get married. Their Plans first get strong restistance from the turkish parents-in-law and also from the mother of G\\xc3\\xb6tz named Helena. G\\xc3\\xb6tz converting to the Islam and tries to get a true turk to marry Aylin at the end. After serveral problems and twists they get finally married.',\n",
       "       b\"A man's best friend is killed on the streets of New York. The man (Robert Ginty) then transforms into a violent killer, turning New York into a great war zone and Christopher George is the only one to stop him.\",\n",
       "       b\"Dark, mysterious and sensual, Vampirella (Talisa Soto) is a princess from the Planet Drakulon.  Like all vampires, she needs blood to live, but she will not kill to get it - a synthetic substitute keeps her alive.  After journeying across space and time seeking vengeance for her father's brutal murder, she now finds herself on Earth, in Las Vegas, where her enemy Vlad (Roger Daltry) has disguised himself as a rock star.  In order to stop Vlad's doomsday plan for world domination, Vampirella must make a dangerous alliance with a group of hi-tech vampire hunters.  It's a race to stop the apocalypse of humanity and our fate is in the hands of the fiery, dangerous and beautiful Vampirella.\",\n",
       "       b\"Will, a charming 35-year-old Philadelphia ad man, heads to Lebanon, Pa. to bury his recently deceased father. He forms an unexpected friendship with CJ, his bright, newly pregnant 17-year-old cousin. As Will becomes interested in CJ's married teacher and CJ confronts her conflicted father, both struggle with formidable decisions about the path their lives will take. Can we vault our differences and meet in the middle? This bittersweet comic drama tenderly explores the cultural divide in America through the lives of one extended family.\",\n",
       "       b'Edward G. Robinson is a police inspector trailing a spy who plots to kidnap an important American atomic scientist. George Raft a gangster who is hired to carry out the abduction, balks when he learns what is at stake and helps Robinson out instead.',\n",
       "       b\"This thriller investigates the mysterious assassination of a gay pastor in rural South Africa. Without witnesses or explanations, the crime appears to the police and others as a jigsaw puzzle without enough pieces. The police then suspect and arrest people based on the usual prejudices, black and coloured people who plant marijuana in this case. Meanwhile, the true assassin not only goes his way unpunished from the very beginning, but becomes one of the rural town's most respected citizens. The sheriff at one point does begin having certain suspicions, and from there on the bulk of the plot is played out. The location is a very arid part of South Africa, so with so much desert rock, there are bound to be quarries. Some may reveal important secrets.\",\n",
       "       b\"Lucas and Clementine live peacefully in their isolated country house, but one night they wake up to strange noise. They're not alone... and a group of hooded assailants begin to terrorize them throughout the night.\",\n",
       "       b'Three very different adolescent girls team up to take revenge on men until one day it is no longer a game.',\n",
       "       b\"Savannah lawyer Rick Magruder is at a party celebrating his courtroom victory defending a cop killer when a member of the catering staff, Mallory Doss, discovers her car has been stolen. Having had a few drinks, Magruder offers to give her a lift home, a decision that turns into a one night stand. Rick soon learns that her nut-case father, Dixon, seems to have begun threatening her again. Rick puts the force of his law firm behind Mallory, who he barely knows, has Dixon picked up by the police, and subpoenas the girl's belligerent ex-husband, Pete, to testify against the old man. Dixon is put away in an asylum. However, he soon escapes, putting the lives of everyone who conspired against him in jeopardy.\",\n",
       "       b\"Robert Ryan plays an aging sheriff responsible for law and order in a frontier cattle town. Virginia Mayo plays his fiancee. As if handling wild cattle drovers isn't enough, a crooked casino operator from Ryan's past comes to town. An early scuffle in the casino leaves Ryan with vision problems that interfere with his duties. Jeffrey Hunter who came to town with a cattle drive encounters Ryan, who killed Hunter's father when Hunter was young. Feelings of animosity soon change as Hunter begins to sense Ryan is telling the truth about his father. What follows is a plot that continues to thicken to the inevitable showdown.\",\n",
       "       b'A small-time hood must choose from among love, friendship and the chance to rise within the mob.',\n",
       "       b'Sonia Kennebeck takes on the controversial tactic of drone warfare, and demands accountability through the personal accounts\\xe2\\x80\\x94recollections, traumas, and responses\\xe2\\x80\\x94of three American military veterans whose lives have been shaken by the roles they played in this controversial method of attack.',\n",
       "       b\"Eleven year old Masha Kulabokhova is about to be adopted into fourteen year old Cami Diaz's family. Masha grew up in a Russian orphanage; Cami was born and raised in Wisconsin and has been the exclusive focus of her parents' love her whole life. The process of Masha becoming part of the Diaz family is going to change both girls forever. The Dark Matter of Love follows Masha as she leaves Russia to the spend her first year as part of the Diaz family, who have also adopted five year old twin boys Marcel and Vadim. When the reality of bonding with children who have grown up in institutions turns out to be more difficult than they ever imagined, the Diaz's hire two of the world's best developmental psychologists to help them build their new family - through science. Sometimes hilarious, sometimes heartbreaking, The Dark Matter of Love melds the story of the Diaz family learning to love, with rare archive footage of science experiments exploring parent-child love.\",\n",
       "       b'On 9 May a German comes to Russia to marry the Russian beauty Alena, whom he had met in Berlin. The happy couple goes to the village to meet the bride\\xe2\\x80\\x99s relatives. However, Alena\\xe2\\x80\\x99s former husband Tolya is also on the way there: he has unexpectedly decided to get his wife back. Everything turns out as a romantic rivalry, which involves \\xe2\\x80\\x93 apart from Tolya and Helmut \\xe2\\x80\\x93 their friends, relatives, and the other inhabitants of the village: the businessman Yerofeev who has bought a house in the neighbourhood; a lost tank-man; and even a kite \\xe2\\x80\\x93 they all meddle in the events.',\n",
       "       b'Something diabolical is taking place on the set of \"The Task\" a new reality show in which players complete terrifying missions within the confines of an abandoned prison hoping to win a hefty cash prize. As six young students explore their new environment, malicious spirits make their presence known in the most gruesome ways imaginable, Unable to escape the labyrinthine prison, the contestants become unwitting pawns caught at the centre of a blood-soaked night of terror.',\n",
       "       b'A recounting of the relationship between General Fairfax and Oliver Cromwell, as they try to cope with the consequences of deposing King Charles I.',\n",
       "       b'A young woman is taken hostage by a police officer and subsequently abused by the lawman gone mad.',\n",
       "       b'Having survived the hatred and bigotry that was his Klansman grandfather\\'s only legacy, young attorney Adam Hall seeks at the last minute to appeal the old man\\'s death sentence for the murder of two small Jewish boys 30 years before. Only four weeks before Sam Cayhall is to be executed, Adam meets his grandfather for the first time in the Mississippi prison which has held him since the crime. The meeting is predictably tense when the educated, young Mr. \"Hall\" confronts his venom-spewing elder, Mr. \"Cayhall,\" about the murders. The next day, headlines run proclaiming Adam the grandson who has come to the state to save his grandfather, the infamous Ku Klux Klan bomber. While the old man\\'s life lies in the balance, Adam\\'s motivation in fighting this battle becomes clear as the story unfolds. Not only does he fight for his grandfather, but perhaps for himself as well. He has come to heal the wounds of his own father\\'s suicide...',\n",
       "       b'A wave of gruesome murders is sweeping Tokyo. The only connection is a bloody X carved into the neck of each of the victims. In each case, the murderer is found near the victim and remembers nothing of the crime. Detective Takabe and psychologist Sakuma are called in to figure out the connection, but their investigation goes nowhere...',\n",
       "       b'Nick and Nora are at their wise-cracking best as they investigate murder and racketeering at a local race-track.',\n",
       "       b'A pair of truck drivers happen onto a decrepit roadside fast food stop selling ramen noodles. The widowed owner, Tampopo, pleads them to help her turn her establishment into a paragon of the \"art of noodle soup making\".',\n",
       "       b\"Encouraged by his editor to seek 'sexy stories that sell', a reporter preys upon the private life of an erstwhile friend, with disastrous results.\"],\n",
       "      dtype=object)>"
      ]
     },
     "execution_count": 57,
     "metadata": {},
     "output_type": "execute_result"
    }
   ],
   "source": [
    "text_batch"
   ]
  },
  {
   "cell_type": "code",
   "execution_count": 88,
   "metadata": {},
   "outputs": [],
   "source": [
    "text_batch, label_batch = next(iter(train_dataset))\n",
    "text_batch.shape\n",
    "a = text_batch.numpy()"
   ]
  },
  {
   "cell_type": "code",
   "execution_count": 90,
   "metadata": {},
   "outputs": [
    {
     "data": {
      "text/plain": [
       "b'In the year 2159, two classes of people exist: the very wealthy who live on a pristine man-made space station called Elysium, and the rest, who live on an overpopulated, ruined Earth. Secretary Rhodes (Jodie Foster), a hard line government of\\xef\\xac\\x81cial, will stop at nothing to enforce anti-immigration laws and preserve the luxurious lifestyle of the citizens of Elysium. That doesn\\xe2\\x80\\x99t stop the people of Earth from trying to get in, by any means they can. When unlucky Max (Matt Damon) is backed into a corner, he agrees to take on a daunting mission that, if successful, will not only save his life, but could bring equality to these polarized worlds.'"
      ]
     },
     "execution_count": 90,
     "metadata": {},
     "output_type": "execute_result"
    }
   ],
   "source": [
    "a[0]"
   ]
  },
  {
   "cell_type": "code",
   "execution_count": null,
   "metadata": {},
   "outputs": [],
   "source": [
    "'In the year 2159, two classes of people exist: the very wealthy who live on a pristine man-made space station called Elysium, and the rest, who live on an overpopulated, ruined Earth. Secretary Rhodes (Jodie Foster), a hard line government of\\xef\\xac\\x81cial, will stop at nothing to enforce anti-immigration laws and preserve the luxurious lifestyle of the citizens of Elysium. That doesn\\xe2\\x80\\x99t stop the people of Earth from trying to get in, by any means they can. When unlucky Max (Matt Damon) is backed into a corner, he agrees to take on a daunting mission that, if successful, will not only save his life, but could bring equality to these polarized worlds.'"
   ]
  },
  {
   "cell_type": "code",
   "execution_count": 82,
   "metadata": {},
   "outputs": [
    {
     "name": "stdout",
     "output_type": "stream",
     "text": [
      "Abstract: b\"Nikolai, a Russian hit-man escapes from his adversaries into the streets of Los Angeles. He is taken into the household of Lesley and her son Johnny. In exchange for refuge, Nikolai repairs the single mother's decaying house and symbolically mends fences between everyday people of Russia and the U.S. When enemies get too close to his new home, Nikolai makes his escape to Montana.\"\n",
      "Label(s): ['Drama' 'Action' 'Crime' 'Adventure']\n",
      "Predicted Label(s): (Drama, Action, Romance)\n",
      " \n",
      "Abstract: b'Neal Cassady is living the beat life during the 1940s, working at The Tire Yard and and philandering around town. However, he has visions of a happy life with kids and a white picket fence. When his girlfried, Joan, tries to kill herself he gets scared and runs away. But when Joan reappears will he take the chance at that happiness, or will he turn his back on it?'\n",
      "Label(s): ['Drama']\n",
      "Predicted Label(s): (Drama, Comedy, Family)\n",
      " \n",
      "Abstract: b\"A secret organisation offers wealthy people a second chance at life. The customer picks out someone they want to be and the organisation surgically alters the customer to look like the intended person, stages the customer's death, gets rid of the intended person and the customer takes on a new life.\"\n",
      "Label(s): ['Drama' 'Thriller' 'Science Fiction' 'Mystery']\n",
      "Predicted Label(s): (Drama, Comedy, Romance)\n",
      " \n",
      "Abstract: b'A nine-year-old boy\\xe2\\x80\\x99s preening obsession with straightening his hair elicits a tidal wave of homophobic panic in his hard-working mother, in this tender but clear-eyed coming-of-age tale.'\n",
      "Label(s): ['Drama']\n",
      "Predicted Label(s): (Drama, Comedy, Crime)\n",
      " \n",
      "Abstract: b'The fearless Colombian philosopher-politician-teacher Antanas Mockus and his followers struggle for peace in a country with the longest running internal conflict in the world.'\n",
      "Label(s): ['Documentary']\n",
      "Predicted Label(s): (Drama, Documentary, Action)\n",
      " \n"
     ]
    }
   ],
   "source": [
    "# Perform inference.\n",
    "for i, text in enumerate(text_batch[:5]):\n",
    "    label = label_batch[i].numpy()[None, ...]\n",
    "    print(f\"Abstract: {text}\")\n",
    "    print(f\"Label(s): {invert_multi_hot(label[0])}\")\n",
    "    predicted_proba = [proba for proba in predicted_probabilities[i]]\n",
    "    top_3_labels = [\n",
    "        x\n",
    "        for _, x in sorted(\n",
    "            zip(predicted_probabilities[i], lookup.get_vocabulary()),\n",
    "            key=lambda pair: pair[0],\n",
    "            reverse=True,\n",
    "        )\n",
    "    ][:3]\n",
    "    print(f\"Predicted Label(s): ({', '.join([label for label in top_3_labels])})\")\n",
    "    print(\" \")"
   ]
  },
  {
   "cell_type": "code",
   "execution_count": 58,
   "metadata": {},
   "outputs": [],
   "source": [
    "str_input = text_batch[0].numpy().decode()"
   ]
  },
  {
   "cell_type": "code",
   "execution_count": 59,
   "metadata": {},
   "outputs": [
    {
     "data": {
      "text/plain": [
       "\"Nikolai, a Russian hit-man escapes from his adversaries into the streets of Los Angeles. He is taken into the household of Lesley and her son Johnny. In exchange for refuge, Nikolai repairs the single mother's decaying house and symbolically mends fences between everyday people of Russia and the U.S. When enemies get too close to his new home, Nikolai makes his escape to Montana.\""
      ]
     },
     "execution_count": 59,
     "metadata": {},
     "output_type": "execute_result"
    }
   ],
   "source": [
    "str_input"
   ]
  },
  {
   "cell_type": "code",
   "execution_count": 81,
   "metadata": {},
   "outputs": [
    {
     "data": {
      "text/plain": [
       "<tf.Tensor: shape=(), dtype=string, numpy=b\"Nikolai, a Russian hit-man escapes from his adversaries into the streets of Los Angeles. He is taken into the household of Lesley and her son Johnny. In exchange for refuge, Nikolai repairs the single mother's decaying house and symbolically mends fences between everyday people of Russia and the U.S. When enemies get too close to his new home, Nikolai makes his escape to Montana.\">"
      ]
     },
     "execution_count": 81,
     "metadata": {},
     "output_type": "execute_result"
    }
   ],
   "source": [
    "text_batch[0]"
   ]
  },
  {
   "cell_type": "code",
   "execution_count": 39,
   "metadata": {},
   "outputs": [
    {
     "data": {
      "text/plain": [
       "TensorShape([100, 79206])"
      ]
     },
     "execution_count": 39,
     "metadata": {},
     "output_type": "execute_result"
    }
   ],
   "source": [
    "text_vectorizer(text_batch).shape"
   ]
  },
  {
   "cell_type": "code",
   "execution_count": 37,
   "metadata": {},
   "outputs": [],
   "source": [
    "vectorized_input = text_vectorizer([str_input])"
   ]
  },
  {
   "cell_type": "code",
   "execution_count": 38,
   "metadata": {},
   "outputs": [
    {
     "data": {
      "text/plain": [
       "TensorShape([1, 79206])"
      ]
     },
     "execution_count": 38,
     "metadata": {},
     "output_type": "execute_result"
    }
   ],
   "source": [
    "vectorized_input.shape"
   ]
  },
  {
   "cell_type": "code",
   "execution_count": 62,
   "metadata": {},
   "outputs": [
    {
     "name": "stdout",
     "output_type": "stream",
     "text": [
      "1/1 [==============================] - 0s 78ms/step\n"
     ]
    },
    {
     "data": {
      "text/plain": [
       "array([[6.9201446e-01, 6.6896982e-02, 1.0240780e-01, 1.4563560e-01,\n",
       "        6.0845476e-01, 1.9382467e-04, 2.2115275e-01, 2.5197235e-04,\n",
       "        8.5799061e-02, 8.6511258e-04, 4.4573317e-03, 3.7102746e-03,\n",
       "        1.7735198e-03, 9.1952825e-04, 1.8394006e-03, 2.7052637e-02,\n",
       "        5.6543937e-03, 1.1926141e-03, 7.9426402e-04, 4.2253011e-03]],\n",
       "      dtype=float32)"
      ]
     },
     "execution_count": 62,
     "metadata": {},
     "output_type": "execute_result"
    }
   ],
   "source": [
    "model.predict([str_input])"
   ]
  },
  {
   "cell_type": "code",
   "execution_count": 70,
   "metadata": {},
   "outputs": [
    {
     "name": "stdout",
     "output_type": "stream",
     "text": [
      "INFO:tensorflow:Assets written to: models//model/1/assets\n"
     ]
    },
    {
     "name": "stderr",
     "output_type": "stream",
     "text": [
      "INFO:tensorflow:Assets written to: models//model/1/assets\n"
     ]
    }
   ],
   "source": [
    "@tf.function\n",
    "def inference_function(text):\n",
    "  # model_inputs = text_vectorizer(text)\n",
    "\n",
    "  # inference model\n",
    "  model_outputs = model([text])\n",
    "\n",
    "  # outputs = # do some post-processing with starts, ends, and model_outputs\n",
    "  return model_outputs\n",
    "\n",
    "\n",
    "import os\n",
    "model_dir = \"models/\"\n",
    "model_name = \"model\"\n",
    "model_version = \"1\"\n",
    "model_export_path = f\"{model_dir}/{model_name}/{model_version}\"\n",
    "\n",
    "model.save(\n",
    "  filepath=model_export_path,\n",
    "  signatures={\n",
    "    \"serving_default\": inference_function.get_concrete_function(tf.TensorSpec([None], dtype=tf.string)),\n",
    "  }\n",
    ")"
   ]
  },
  {
   "cell_type": "code",
   "execution_count": 86,
   "metadata": {},
   "outputs": [
    {
     "ename": "AttributeError",
     "evalue": "module 'tensorflow' has no attribute 'Session'",
     "output_type": "error",
     "traceback": [
      "\u001b[0;31m---------------------------------------------------------------------------\u001b[0m",
      "\u001b[0;31mAttributeError\u001b[0m                            Traceback (most recent call last)",
      "Cell \u001b[0;32mIn[86], line 7\u001b[0m\n\u001b[1;32m      4\u001b[0m model_version \u001b[39m=\u001b[39m \u001b[39m\"\u001b[39m\u001b[39m1\u001b[39m\u001b[39m\"\u001b[39m\n\u001b[1;32m      5\u001b[0m model_export_path \u001b[39m=\u001b[39m \u001b[39mf\u001b[39m\u001b[39m\"\u001b[39m\u001b[39m{\u001b[39;00mmodel_dir\u001b[39m}\u001b[39;00m\u001b[39m/\u001b[39m\u001b[39m{\u001b[39;00mmodel_name\u001b[39m}\u001b[39;00m\u001b[39m/\u001b[39m\u001b[39m{\u001b[39;00mmodel_version\u001b[39m}\u001b[39;00m\u001b[39m\"\u001b[39m\n\u001b[0;32m----> 7\u001b[0m sess \u001b[39m=\u001b[39m tf\u001b[39m.\u001b[39;49mSession()\n\u001b[1;32m      8\u001b[0m sess\u001b[39m.\u001b[39mrun(tf\u001b[39m.\u001b[39mglobal_variables_initializer())\n\u001b[1;32m      9\u001b[0m builder \u001b[39m=\u001b[39m tf\u001b[39m.\u001b[39msaved_model\u001b[39m.\u001b[39mbuilder\u001b[39m.\u001b[39mSavedModelBuilder(model_export_path)\n",
      "\u001b[0;31mAttributeError\u001b[0m: module 'tensorflow' has no attribute 'Session'"
     ]
    }
   ],
   "source": [
    "import os\n",
    "model_dir = \"models/\"\n",
    "model_name = \"model\"\n",
    "model_version = \"1\"\n",
    "model_export_path = f\"{model_dir}/{model_name}/{model_version}\"\n",
    "\n",
    "sess = tf.Session()\n",
    "sess.run(tf.global_variables_initializer())\n",
    "builder = tf.saved_model.builder.SavedModelBuilder(model_export_path)\n",
    "builder.add_meta_graph_and_variables(\n",
    "    sess, [tf.compat.v1.saved_model.tag_constants.SERVING],\n",
    "    signature_def_map={\n",
    "        'serving_default':\n",
    "            inference_function.get_concrete_function(tf.TensorSpec([None], dtype=tf.string)),\n",
    "    },\n",
    "    main_op=tf.compat.v1.tables_initializer(),\n",
    "    strip_default_attrs=True)\n",
    "builder.save()\n",
    "sess.close()\n",
    "tf.reset_default_graph()"
   ]
  },
  {
   "cell_type": "code",
   "execution_count": 71,
   "metadata": {},
   "outputs": [],
   "source": [
    "loaded_model = tf.saved_model.load(model_export_path)\n"
   ]
  },
  {
   "cell_type": "code",
   "execution_count": 80,
   "metadata": {},
   "outputs": [
    {
     "ename": "TypeError",
     "evalue": "Binding inputs to tf.function `signature_wrapper` failed due to `too many positional arguments`. Received args: (['test'],) and kwargs: {} for signature: (*, text: TensorSpec(shape=(None,), dtype=tf.string, name='text')).",
     "output_type": "error",
     "traceback": [
      "\u001b[0;31m---------------------------------------------------------------------------\u001b[0m",
      "\u001b[0;31mTypeError\u001b[0m                                 Traceback (most recent call last)",
      "File \u001b[0;32m~/.pyenv/versions/3.11.3/envs/movies/lib/python3.11/site-packages/tensorflow/python/eager/polymorphic_function/function_spec.py:403\u001b[0m, in \u001b[0;36mFunctionSpec.bind_function_inputs\u001b[0;34m(self, args, kwargs)\u001b[0m\n\u001b[1;32m    402\u001b[0m \u001b[39mtry\u001b[39;00m:\n\u001b[0;32m--> 403\u001b[0m   bound_arguments \u001b[39m=\u001b[39m \u001b[39mself\u001b[39;49m\u001b[39m.\u001b[39;49mfunction_type\u001b[39m.\u001b[39;49mbind_with_defaults(\n\u001b[1;32m    404\u001b[0m       args, sanitized_kwargs, \u001b[39mself\u001b[39;49m\u001b[39m.\u001b[39;49mdefault_values)\n\u001b[1;32m    405\u001b[0m \u001b[39mexcept\u001b[39;00m \u001b[39mException\u001b[39;00m \u001b[39mas\u001b[39;00m e:\n",
      "File \u001b[0;32m~/.pyenv/versions/3.11.3/envs/movies/lib/python3.11/site-packages/tensorflow/core/function/polymorphism/function_type.py:237\u001b[0m, in \u001b[0;36mFunctionType.bind_with_defaults\u001b[0;34m(self, args, kwargs, default_values)\u001b[0m\n\u001b[1;32m    236\u001b[0m \u001b[39m\u001b[39m\u001b[39m\"\"\"Returns BoundArguments with default values filled in.\"\"\"\u001b[39;00m\n\u001b[0;32m--> 237\u001b[0m bound_arguments \u001b[39m=\u001b[39m \u001b[39mself\u001b[39;49m\u001b[39m.\u001b[39;49mbind(\u001b[39m*\u001b[39;49margs, \u001b[39m*\u001b[39;49m\u001b[39m*\u001b[39;49mkwargs)\n\u001b[1;32m    238\u001b[0m bound_arguments\u001b[39m.\u001b[39mapply_defaults()\n",
      "File \u001b[0;32m~/.pyenv/versions/3.11.3/lib/python3.11/inspect.py:3211\u001b[0m, in \u001b[0;36mSignature.bind\u001b[0;34m(self, *args, **kwargs)\u001b[0m\n\u001b[1;32m   3207\u001b[0m \u001b[39m\u001b[39m\u001b[39m\"\"\"Get a BoundArguments object, that maps the passed `args`\u001b[39;00m\n\u001b[1;32m   3208\u001b[0m \u001b[39mand `kwargs` to the function's signature.  Raises `TypeError`\u001b[39;00m\n\u001b[1;32m   3209\u001b[0m \u001b[39mif the passed arguments can not be bound.\u001b[39;00m\n\u001b[1;32m   3210\u001b[0m \u001b[39m\"\"\"\u001b[39;00m\n\u001b[0;32m-> 3211\u001b[0m \u001b[39mreturn\u001b[39;00m \u001b[39mself\u001b[39;49m\u001b[39m.\u001b[39;49m_bind(args, kwargs)\n",
      "File \u001b[0;32m~/.pyenv/versions/3.11.3/lib/python3.11/inspect.py:3137\u001b[0m, in \u001b[0;36mSignature._bind\u001b[0;34m(self, args, kwargs, partial)\u001b[0m\n\u001b[1;32m   3134\u001b[0m \u001b[39mif\u001b[39;00m param\u001b[39m.\u001b[39mkind \u001b[39min\u001b[39;00m (_VAR_KEYWORD, _KEYWORD_ONLY):\n\u001b[1;32m   3135\u001b[0m     \u001b[39m# Looks like we have no parameter for this positional\u001b[39;00m\n\u001b[1;32m   3136\u001b[0m     \u001b[39m# argument\u001b[39;00m\n\u001b[0;32m-> 3137\u001b[0m     \u001b[39mraise\u001b[39;00m \u001b[39mTypeError\u001b[39;00m(\n\u001b[1;32m   3138\u001b[0m         \u001b[39m'\u001b[39m\u001b[39mtoo many positional arguments\u001b[39m\u001b[39m'\u001b[39m) \u001b[39mfrom\u001b[39;00m \u001b[39mNone\u001b[39;00m\n\u001b[1;32m   3140\u001b[0m \u001b[39mif\u001b[39;00m param\u001b[39m.\u001b[39mkind \u001b[39m==\u001b[39m _VAR_POSITIONAL:\n\u001b[1;32m   3141\u001b[0m     \u001b[39m# We have an '*args'-like argument, let's fill it with\u001b[39;00m\n\u001b[1;32m   3142\u001b[0m     \u001b[39m# all positional arguments we have left and move on to\u001b[39;00m\n\u001b[1;32m   3143\u001b[0m     \u001b[39m# the next phase\u001b[39;00m\n",
      "\u001b[0;31mTypeError\u001b[0m: too many positional arguments",
      "\nThe above exception was the direct cause of the following exception:\n",
      "\u001b[0;31mTypeError\u001b[0m                                 Traceback (most recent call last)",
      "Cell \u001b[0;32mIn[80], line 1\u001b[0m\n\u001b[0;32m----> 1\u001b[0m loaded_model\u001b[39m.\u001b[39;49msignatures[\u001b[39m'\u001b[39;49m\u001b[39mserving_default\u001b[39;49m\u001b[39m'\u001b[39;49m]([\u001b[39m\"\u001b[39;49m\u001b[39mtest\u001b[39;49m\u001b[39m\"\u001b[39;49m])\n",
      "File \u001b[0;32m~/.pyenv/versions/3.11.3/envs/movies/lib/python3.11/site-packages/tensorflow/python/eager/polymorphic_function/monomorphic_function.py:1184\u001b[0m, in \u001b[0;36mConcreteFunction.__call__\u001b[0;34m(self, *args, **kwargs)\u001b[0m\n\u001b[1;32m   1134\u001b[0m \u001b[39mdef\u001b[39;00m \u001b[39m__call__\u001b[39m(\u001b[39mself\u001b[39m, \u001b[39m*\u001b[39margs, \u001b[39m*\u001b[39m\u001b[39m*\u001b[39mkwargs):\n\u001b[1;32m   1135\u001b[0m \u001b[39m  \u001b[39m\u001b[39m\"\"\"Executes the wrapped function.\u001b[39;00m\n\u001b[1;32m   1136\u001b[0m \n\u001b[1;32m   1137\u001b[0m \u001b[39m  ConcreteFunctions have two signatures:\u001b[39;00m\n\u001b[0;32m   (...)\u001b[0m\n\u001b[1;32m   1182\u001b[0m \u001b[39m    TypeError: If the arguments do not match the function's signature.\u001b[39;00m\n\u001b[1;32m   1183\u001b[0m \u001b[39m  \"\"\"\u001b[39;00m\n\u001b[0;32m-> 1184\u001b[0m   \u001b[39mreturn\u001b[39;00m \u001b[39mself\u001b[39;49m\u001b[39m.\u001b[39;49m_call_impl(args, kwargs)\n",
      "File \u001b[0;32m~/.pyenv/versions/3.11.3/envs/movies/lib/python3.11/site-packages/tensorflow/python/eager/polymorphic_function/monomorphic_function.py:1198\u001b[0m, in \u001b[0;36mConcreteFunction._call_impl\u001b[0;34m(self, args, kwargs)\u001b[0m\n\u001b[1;32m   1196\u001b[0m       \u001b[39mreturn\u001b[39;00m \u001b[39mself\u001b[39m\u001b[39m.\u001b[39m_call_with_flat_signature(args, kwargs)\n\u001b[1;32m   1197\u001b[0m     \u001b[39mexcept\u001b[39;00m \u001b[39mTypeError\u001b[39;00m:\n\u001b[0;32m-> 1198\u001b[0m       \u001b[39mraise\u001b[39;00m structured_err\n\u001b[1;32m   1200\u001b[0m \u001b[39mreturn\u001b[39;00m \u001b[39mself\u001b[39m\u001b[39m.\u001b[39m_call_with_flat_signature(args, kwargs)\n",
      "File \u001b[0;32m~/.pyenv/versions/3.11.3/envs/movies/lib/python3.11/site-packages/tensorflow/python/eager/polymorphic_function/monomorphic_function.py:1193\u001b[0m, in \u001b[0;36mConcreteFunction._call_impl\u001b[0;34m(self, args, kwargs)\u001b[0m\n\u001b[1;32m   1191\u001b[0m \u001b[39mif\u001b[39;00m \u001b[39mself\u001b[39m\u001b[39m.\u001b[39m_function_spec \u001b[39mis\u001b[39;00m \u001b[39mnot\u001b[39;00m \u001b[39mNone\u001b[39;00m:\n\u001b[1;32m   1192\u001b[0m   \u001b[39mtry\u001b[39;00m:\n\u001b[0;32m-> 1193\u001b[0m     \u001b[39mreturn\u001b[39;00m \u001b[39mself\u001b[39;49m\u001b[39m.\u001b[39;49m_call_with_structured_signature(args, kwargs)\n\u001b[1;32m   1194\u001b[0m   \u001b[39mexcept\u001b[39;00m \u001b[39mTypeError\u001b[39;00m \u001b[39mas\u001b[39;00m structured_err:\n\u001b[1;32m   1195\u001b[0m     \u001b[39mtry\u001b[39;00m:\n",
      "File \u001b[0;32m~/.pyenv/versions/3.11.3/envs/movies/lib/python3.11/site-packages/tensorflow/python/eager/polymorphic_function/monomorphic_function.py:1269\u001b[0m, in \u001b[0;36mConcreteFunction._call_with_structured_signature\u001b[0;34m(self, args, kwargs)\u001b[0m\n\u001b[1;32m   1254\u001b[0m \u001b[39mdef\u001b[39;00m \u001b[39m_call_with_structured_signature\u001b[39m(\u001b[39mself\u001b[39m, args, kwargs):\n\u001b[1;32m   1255\u001b[0m \u001b[39m  \u001b[39m\u001b[39m\"\"\"Executes the wrapped function with the structured signature.\u001b[39;00m\n\u001b[1;32m   1256\u001b[0m \n\u001b[1;32m   1257\u001b[0m \u001b[39m  Args:\u001b[39;00m\n\u001b[0;32m   (...)\u001b[0m\n\u001b[1;32m   1266\u001b[0m \u001b[39m      of this `ConcreteFunction`.\u001b[39;00m\n\u001b[1;32m   1267\u001b[0m \u001b[39m  \"\"\"\u001b[39;00m\n\u001b[1;32m   1268\u001b[0m   args, kwargs, filtered_flat_args \u001b[39m=\u001b[39m (\n\u001b[0;32m-> 1269\u001b[0m       \u001b[39mself\u001b[39;49m\u001b[39m.\u001b[39;49m_function_spec\u001b[39m.\u001b[39;49mcanonicalize_function_inputs(args, kwargs))\n\u001b[1;32m   1270\u001b[0m   \u001b[39mreturn\u001b[39;00m \u001b[39mself\u001b[39m\u001b[39m.\u001b[39m_call_flat(\n\u001b[1;32m   1271\u001b[0m       filtered_flat_args,\n\u001b[1;32m   1272\u001b[0m       captured_inputs\u001b[39m=\u001b[39m\u001b[39mself\u001b[39m\u001b[39m.\u001b[39mcaptured_inputs)\n",
      "File \u001b[0;32m~/.pyenv/versions/3.11.3/envs/movies/lib/python3.11/site-packages/tensorflow/python/eager/polymorphic_function/function_spec.py:386\u001b[0m, in \u001b[0;36mFunctionSpec.canonicalize_function_inputs\u001b[0;34m(self, args, kwargs)\u001b[0m\n\u001b[1;32m    384\u001b[0m \u001b[39mif\u001b[39;00m \u001b[39mself\u001b[39m\u001b[39m.\u001b[39mis_pure:\n\u001b[1;32m    385\u001b[0m   args, kwargs \u001b[39m=\u001b[39m _convert_variables_to_tensors(args, kwargs)\n\u001b[0;32m--> 386\u001b[0m args, kwargs \u001b[39m=\u001b[39m \u001b[39mself\u001b[39;49m\u001b[39m.\u001b[39;49mbind_function_inputs(args, kwargs)\n\u001b[1;32m    387\u001b[0m filtered_flat_args \u001b[39m=\u001b[39m filter_function_inputs(args, kwargs)\n\u001b[1;32m    389\u001b[0m \u001b[39mreturn\u001b[39;00m args, kwargs, filtered_flat_args\n",
      "File \u001b[0;32m~/.pyenv/versions/3.11.3/envs/movies/lib/python3.11/site-packages/tensorflow/python/eager/polymorphic_function/function_spec.py:406\u001b[0m, in \u001b[0;36mFunctionSpec.bind_function_inputs\u001b[0;34m(self, args, kwargs)\u001b[0m\n\u001b[1;32m    403\u001b[0m   bound_arguments \u001b[39m=\u001b[39m \u001b[39mself\u001b[39m\u001b[39m.\u001b[39mfunction_type\u001b[39m.\u001b[39mbind_with_defaults(\n\u001b[1;32m    404\u001b[0m       args, sanitized_kwargs, \u001b[39mself\u001b[39m\u001b[39m.\u001b[39mdefault_values)\n\u001b[1;32m    405\u001b[0m \u001b[39mexcept\u001b[39;00m \u001b[39mException\u001b[39;00m \u001b[39mas\u001b[39;00m e:\n\u001b[0;32m--> 406\u001b[0m   \u001b[39mraise\u001b[39;00m \u001b[39mTypeError\u001b[39;00m(\n\u001b[1;32m    407\u001b[0m       \u001b[39mf\u001b[39m\u001b[39m\"\u001b[39m\u001b[39mBinding inputs to tf.function `\u001b[39m\u001b[39m{\u001b[39;00m\u001b[39mself\u001b[39m\u001b[39m.\u001b[39m_name\u001b[39m}\u001b[39;00m\u001b[39m` failed due to `\u001b[39m\u001b[39m{\u001b[39;00me\u001b[39m}\u001b[39;00m\u001b[39m`. \u001b[39m\u001b[39m\"\u001b[39m\n\u001b[1;32m    408\u001b[0m       \u001b[39mf\u001b[39m\u001b[39m\"\u001b[39m\u001b[39mReceived args: \u001b[39m\u001b[39m{\u001b[39;00margs\u001b[39m}\u001b[39;00m\u001b[39m and kwargs: \u001b[39m\u001b[39m{\u001b[39;00msanitized_kwargs\u001b[39m}\u001b[39;00m\u001b[39m for signature:\u001b[39m\u001b[39m\"\u001b[39m\n\u001b[1;32m    409\u001b[0m       \u001b[39mf\u001b[39m\u001b[39m\"\u001b[39m\u001b[39m \u001b[39m\u001b[39m{\u001b[39;00m\u001b[39mself\u001b[39m\u001b[39m.\u001b[39mfunction_type\u001b[39m}\u001b[39;00m\u001b[39m.\u001b[39m\u001b[39m\"\u001b[39m\n\u001b[1;32m    410\u001b[0m   ) \u001b[39mfrom\u001b[39;00m \u001b[39me\u001b[39;00m\n\u001b[1;32m    411\u001b[0m \u001b[39mreturn\u001b[39;00m bound_arguments\u001b[39m.\u001b[39margs, bound_arguments\u001b[39m.\u001b[39mkwargs\n",
      "\u001b[0;31mTypeError\u001b[0m: Binding inputs to tf.function `signature_wrapper` failed due to `too many positional arguments`. Received args: (['test'],) and kwargs: {} for signature: (*, text: TensorSpec(shape=(None,), dtype=tf.string, name='text'))."
     ]
    }
   ],
   "source": [
    "loaded_model.signatures['serving_default']([\"test\"])"
   ]
  },
  {
   "cell_type": "code",
   "execution_count": null,
   "metadata": {},
   "outputs": [],
   "source": [
    "import os\n",
    "model_dir = \"models/\"\n",
    "model_name = \"model\"\n",
    "model_version = \"1\"\n",
    "model_export_path = f\"{model_dir}/{model_name}/{model_version}\"\n",
    "\n",
    "tf.saved_model.save(\n",
    "    model,\n",
    "    export_dir=model_export_path,\n",
    "    signatures={\n",
    "    \"inference_fn\": inference_function.get_concrete_function(tf.TensorSpec([None], dtype=tf.string)),\n",
    "  }\n",
    ")\n",
    "\n",
    "print(f\"SavedModel files: {os.listdir(model_export_path)}\")"
   ]
  },
  {
   "cell_type": "code",
   "execution_count": 92,
   "metadata": {},
   "outputs": [
    {
     "name": "stdout",
     "output_type": "stream",
     "text": [
      "INFO:tensorflow:Assets written to: models//model/1/assets\n"
     ]
    },
    {
     "name": "stderr",
     "output_type": "stream",
     "text": [
      "INFO:tensorflow:Assets written to: models//model/1/assets\n"
     ]
    },
    {
     "name": "stdout",
     "output_type": "stream",
     "text": [
      "SavedModel files: ['fingerprint.pb', 'keras_metadata.pb', 'variables', 'saved_model.pb', 'assets']\n"
     ]
    }
   ],
   "source": [
    "import os\n",
    "model_dir = \"models/\"\n",
    "model_name = \"model\"\n",
    "model_version = \"1\"\n",
    "model_export_path = f\"{model_dir}/{model_name}/{model_version}\"\n",
    "\n",
    "tf.saved_model.save(\n",
    "    model,\n",
    "    export_dir=model_export_path,\n",
    ")\n",
    "\n",
    "print(f\"SavedModel files: {os.listdir(model_export_path)}\")"
   ]
  },
  {
   "cell_type": "code",
   "execution_count": 94,
   "metadata": {},
   "outputs": [
    {
     "name": "stdout",
     "output_type": "stream",
     "text": [
      "1/1 [==============================] - 0s 29ms/step\n"
     ]
    },
    {
     "data": {
      "text/plain": [
       "array([[1.7864062e-01, 4.2842832e-01, 1.4679827e-01, 1.9784946e-02,\n",
       "        3.1964073e-01, 1.7340910e-02, 2.2075791e-02, 3.9340057e-03,\n",
       "        1.9291231e-01, 9.2264676e-01, 4.4833627e-02, 7.1314489e-03,\n",
       "        2.3493510e-02, 7.4275605e-02, 6.7116460e-04, 2.8097962e-03,\n",
       "        5.9919775e-04, 3.6852024e-04, 1.5874910e-04, 1.5589758e-02]],\n",
       "      dtype=float32)"
      ]
     },
     "execution_count": 94,
     "metadata": {},
     "output_type": "execute_result"
    }
   ],
   "source": [
    "model.predict(['In the year 2159, two classes of people exist: the very wealthy who live on a pristine man-made space station called Elysium, and the rest, who live on an overpopulated, ruined Earth. Secretary Rhodes (Jodie Foster), a hard line government of\\xef\\xac\\x81cial, will stop at nothing to enforce anti-immigration laws and preserve the luxurious lifestyle of the citizens of Elysium. That doesn\\xe2\\x80\\x99t stop the people of Earth from trying to get in, by any means they can. When unlucky Max (Matt Damon) is backed into a corner, he agrees to take on a daunting mission that, if successful, will not only save his life, but could bring equality to these polarized worlds.'])"
   ]
  },
  {
   "cell_type": "code",
   "execution_count": null,
   "metadata": {},
   "outputs": [],
   "source": []
  }
 ],
 "metadata": {
  "kernelspec": {
   "display_name": "movies",
   "language": "python",
   "name": "python3"
  },
  "language_info": {
   "codemirror_mode": {
    "name": "ipython",
    "version": 3
   },
   "file_extension": ".py",
   "mimetype": "text/x-python",
   "name": "python",
   "nbconvert_exporter": "python",
   "pygments_lexer": "ipython3",
   "version": "3.11.3"
  },
  "orig_nbformat": 4
 },
 "nbformat": 4,
 "nbformat_minor": 2
}
